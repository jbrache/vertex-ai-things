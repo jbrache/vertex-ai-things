{
  "cells": [
    {
      "cell_type": "markdown",
      "id": "403cb049",
      "metadata": {
        "id": "403cb049"
      },
      "source": [
        "![tracker](https://us-central1-vertex-ai-mlops-369716.cloudfunctions.net/pixel-tracking?path=statmike%2Fvertex-ai-mlops%2FMLOps%2FPipelines&file=Vertex+AI+Pipelines+-+Introduction.ipynb)\n",
        "<!--- header table --->\n",
        "<table align=\"left\">\n",
        "  <td style=\"text-align: center\">\n",
        "    <a href=\"https://colab.research.google.com/github/jbrache/vertex-ai-things/blob/main/MLOps/Pipelines/Private_PyPI/1_Vertex_AI_Pipelines_Introduction.ipynb\">\n",
        "      <img src=\"https://cloud.google.com/ml-engine/images/colab-logo-32px.png\" alt=\"Google Colaboratory logo\">\n",
        "      <br>Run in<br>Colab\n",
        "    </a>\n",
        "  </td>\n",
        "  <td style=\"text-align: center\">\n",
        "    <a href=\"https://console.cloud.google.com/vertex-ai/colab/import/https%3A%2F%2Fraw.githubusercontent.com%2Fjbrache%2Fvertex-ai-things%2Fmain%2FMLOps%2FPipelines%2FPrivate_PyPI%2F1_Vertex_AI_Pipelines_Introduction.ipynb\">\n",
        "      <img width=\"32px\" src=\"https://lh3.googleusercontent.com/JmcxdQi-qOpctIvWKgPtrzZdJJK-J3sWE1RsfjZNwshCFgE_9fULcNpuXYTilIR2hjwN\" alt=\"Google Cloud Colab Enterprise logo\">\n",
        "      <br>Run in<br>Colab Enterprise\n",
        "    </a>\n",
        "  </td>      \n",
        "  <td style=\"text-align: center\">\n",
        "    <a href=\"https://github.com/jbrache/vertex-ai-things/blob/main/MLOps/Pipelines/Private_PyPI/1_Vertex_AI_Pipelines_Introduction.ipynb\">\n",
        "      <img src=\"https://cloud.google.com/ml-engine/images/github-logo-32px.png\" alt=\"GitHub logo\">\n",
        "      <br>View on<br>GitHub\n",
        "    </a>\n",
        "  </td>\n",
        "  <td style=\"text-align: center\">\n",
        "    <a href=\"https://console.cloud.google.com/vertex-ai/workbench/deploy-notebook?download_url=https://raw.githubusercontent.com/jbrache/vertex-ai-things/main/MLOps/Pipelines/Private_PyPI/1_Vertex_AI_Pipelines_Introduction.ipynb\">\n",
        "      <img src=\"https://lh3.googleusercontent.com/UiNooY4LUgW_oTvpsNhPpQzsstV5W8F7rYgxgGBD85cWJoLmrOzhVs_ksK_vgx40SHs7jCqkTkCk=e14-rj-sc0xffffff-h130-w32\" alt=\"Vertex AI logo\">\n",
        "      <br>Open in<br>Vertex AI Workbench\n",
        "    </a>\n",
        "  </td>\n",
        "</table>"
      ]
    },
    {
      "cell_type": "markdown",
      "id": "b0e7a164-2a66-4b7f-8b15-1b5f246c8880",
      "metadata": {
        "id": "b0e7a164-2a66-4b7f-8b15-1b5f246c8880",
        "tags": []
      },
      "source": [
        "---\n",
        "This is part of a [series of notebook based workflows](https://github.com/statmike/vertex-ai-mlops/tree/main/MLOps/Pipelines) that teach all the ways to use pipelines within Vertex AI. Kudos to [statmike/vertex-ai-mlops](https://github.com/statmike/vertex-ai-mlops)!\n",
        "\n",
        "---"
      ]
    },
    {
      "cell_type": "markdown",
      "id": "9608a8fd-eec7-4c9f-9d30-78e1275ad987",
      "metadata": {
        "id": "9608a8fd-eec7-4c9f-9d30-78e1275ad987"
      },
      "source": [
        "# Vertex AI Pipelines - Introduction\n",
        "\n",
        "**Note**: This sample has been modified from the [original sample](https://github.com/statmike/vertex-ai-mlops/blob/main/MLOps/Pipelines/Vertex%20AI%20Pipelines%20-%20Introduction.ipynb) (Kudos [statmike](https://github.com/statmike)!) to incorporate the use of a private Artifact Registry Python repository and a custom KFP base container image.\n",
        "\n",
        "When an ML workflow has more than one step it can benefit from a pipeline.  [Vertex AI Pipelines](https://cloud.google.com/vertex-ai/docs/pipelines/introduction) is a managed service that executes [Kubeflow Pipelines (KFP)](https://www.kubeflow.org/docs/components/pipelines/v2/introduction/) and [TensorFlow Extended (TFX)](https://www.tensorflow.org/tfx/guide/understanding_tfx_pipelines) pipelines.  For this introduction the focus will be on KFP due to its vast flexibility, it was even originally developed as a simplified way of running TFX on Kubernetes - [history of Kubeflow](https://www.kubeflow.org/docs/started/introduction/#history).\n",
        "This notebook based workflow will introduce KFP pipelines runninng on Vertex AI Pipelines and point to the additional detailed workflows within [this repository](https://github.com/statmike/vertex-ai-mlops/blob/main/MLOps/Pipelines) that help with a deeper understanding.\n",
        "\n",
        "<p align=\"center\"><center>\n",
        "    <img src=\"https://github.com/statmike/vertex-ai-mlops/blob/main/MLOps/resources/images/screenshots/pipelines/intro/overview.png?raw=1\" width=\"75%\">\n",
        "</center><p>"
      ]
    },
    {
      "cell_type": "markdown",
      "id": "730ff978-b3d0-4b92-9780-7e861b34afa2",
      "metadata": {
        "id": "730ff978-b3d0-4b92-9780-7e861b34afa2"
      },
      "source": [
        "---\n",
        "\n",
        "**Pipelines** - The Concept\n",
        "\n",
        "Pipelines are constructed from steps.  The steps are called **tasks** and utilize **components**.\n",
        "\n",
        "The tasks are connected by inputs and outputs.  This forms the execution graph of the pipeline.\n",
        "\n",
        "Inputs and outputs can be made up of **parameters** (`str`, `int`, `float`, `bool`, `dict`, `list`) as well as **artifacts**.  Artifacts are multiparameter objects that have defined schemas for machine learning objects (datasets, models, etc.) and automatically get stored as [Vertex AI ML Metadata](https://cloud.google.com/vertex-ai/docs/ml-metadata/introduction) and have lineage.\n",
        "\n",
        "**Kubeflow Pipelines** - Constructing Pipelines\n",
        "\n",
        "Pipelines are written in Python using the [`kfp` package](https://www.kubeflow.org/docs/components/pipelines/v2/installation/).  This SDK has decorators for multiple ways of writing [**components**](https://www.kubeflow.org/docs/components/pipelines/v2/components/) and constructing [**pipelines**](https://www.kubeflow.org/docs/components/pipelines/v2/pipelines/) from the components with features to control the execution and flow of the pipeline. Pipeline code is [**compiled**](https://www.kubeflow.org/docs/components/pipelines/v2/compile-a-pipeline/) into a YAML file using a single line command with the SDK.  \n",
        "\n",
        "**Vertex AI Pipelines** - Executing Pipelines\n",
        "\n",
        "The resulting YAML file is the input for [running the pipeline](https://cloud.google.com/vertex-ai/docs/pipelines/run-pipeline) with Vertex AI Pipelines.  The runs can even be scheduled with [Vertex AI Pipeline scheduler API](https://cloud.google.com/vertex-ai/docs/pipelines/schedule-pipeline-run).\n",
        "\n",
        "The runs of a pipeline can be directly monitored, and compared, in the Vertex AI console:\n",
        "\n",
        "**Pipeline Dashboard View In The Console: Overall Pipeline**\n",
        "<p align=\"center\"><center>\n",
        "    <img src=\"https://github.com/statmike/vertex-ai-mlops/blob/main/MLOps/resources/images/screenshots/pipelines/intro/overview.png?raw=1\" width=\"75%\">\n",
        "</center><p>"
      ]
    },
    {
      "cell_type": "markdown",
      "id": "fcb1be06-0703-4f05-a650-def0afb2f027",
      "metadata": {
        "id": "fcb1be06-0703-4f05-a650-def0afb2f027",
        "tags": []
      },
      "source": [
        "---\n",
        "## Colab Setup\n",
        "\n",
        "To run this notebook in Colab run the cells in this section.  Otherwise, skip this section.\n",
        "\n",
        "This cell will authenticate to GCP (follow prompts in the popup)."
      ]
    },
    {
      "cell_type": "code",
      "execution_count": null,
      "id": "9722edbb-c3ea-4376-bda5-173093b85d1d",
      "metadata": {
        "id": "9722edbb-c3ea-4376-bda5-173093b85d1d",
        "tags": []
      },
      "outputs": [],
      "source": [
        "PROJECT_ID = 'ds-dev-jb02-pypi' # replace with project ID"
      ]
    },
    {
      "cell_type": "code",
      "execution_count": null,
      "id": "79d5cd52-fd6a-40ec-b729-b982eb98b351",
      "metadata": {
        "id": "79d5cd52-fd6a-40ec-b729-b982eb98b351",
        "tags": []
      },
      "outputs": [],
      "source": [
        "try:\n",
        "    from google.colab import auth\n",
        "    auth.authenticate_user()\n",
        "    !gcloud config set project {PROJECT_ID}\n",
        "    print('Colab authorized to GCP')\n",
        "except Exception:\n",
        "    print('Not a Colab Environment')\n",
        "    pass"
      ]
    },
    {
      "cell_type": "markdown",
      "id": "3c2290c7-0b83-457b-b740-9640b4c29f1d",
      "metadata": {
        "id": "3c2290c7-0b83-457b-b740-9640b4c29f1d"
      },
      "source": [
        "---\n",
        "## Installs\n",
        "\n",
        "The list `packages` contains tuples of package import names and install names.  If the import name is not found then the install name is used to install quitely for the current user."
      ]
    },
    {
      "cell_type": "code",
      "execution_count": null,
      "id": "7c6739f0-727d-4919-a85c-2c452712bb05",
      "metadata": {
        "id": "7c6739f0-727d-4919-a85c-2c452712bb05",
        "tags": []
      },
      "outputs": [],
      "source": [
        "# tuples of (import name, install name, min_version)\n",
        "packages = [\n",
        "    ('google.cloud.aiplatform', 'google-cloud-aiplatform', '1.51.0'),\n",
        "    ('kfp', 'kfp'),\n",
        "]\n",
        "\n",
        "import importlib\n",
        "install = False\n",
        "for package in packages:\n",
        "    if not importlib.util.find_spec(package[0]):\n",
        "        print(f'installing package {package[1]}')\n",
        "        install = True\n",
        "        !pip install {package[1]} -U -q --user\n",
        "    elif len(package) == 3:\n",
        "        if importlib.metadata.version(package[0]) < package[2]:\n",
        "            print(f'updating package {package[1]}')\n",
        "            install = True\n",
        "            !pip install {package[1]} -U -q --user"
      ]
    },
    {
      "cell_type": "markdown",
      "id": "db68156d-2c9e-4ddd-9d3c-cf1149ce5626",
      "metadata": {
        "id": "db68156d-2c9e-4ddd-9d3c-cf1149ce5626"
      },
      "source": [
        "### API Enablement"
      ]
    },
    {
      "cell_type": "code",
      "execution_count": null,
      "id": "dac5fdfc-69b3-4954-9921-f943bf23296c",
      "metadata": {
        "id": "dac5fdfc-69b3-4954-9921-f943bf23296c",
        "tags": []
      },
      "outputs": [],
      "source": [
        "!gcloud services enable aiplatform.googleapis.com"
      ]
    },
    {
      "cell_type": "markdown",
      "id": "3558688e-c1ab-48df-a51c-cfe8ffe5b43e",
      "metadata": {
        "id": "3558688e-c1ab-48df-a51c-cfe8ffe5b43e"
      },
      "source": [
        "### Restart Kernel (If Installs Occured)\n",
        "\n",
        "After a kernel restart the code submission can start with the next cell after this one."
      ]
    },
    {
      "cell_type": "code",
      "execution_count": null,
      "id": "4293181d-0a5e-4203-9847-7b233197d8a1",
      "metadata": {
        "id": "4293181d-0a5e-4203-9847-7b233197d8a1",
        "tags": []
      },
      "outputs": [],
      "source": [
        "if install:\n",
        "    import IPython\n",
        "    app = IPython.Application.instance()\n",
        "    app.kernel.do_shutdown(True)\n",
        "    IPython.display.display(IPython.display.Markdown(\"\"\"<div class=\\\"alert alert-block alert-warning\\\">\n",
        "        <b>⚠️ The kernel is going to restart. Please wait until it is finished before continuing to the next step. The previous cells do not need to be run again⚠️</b>\n",
        "        </div>\"\"\"))"
      ]
    },
    {
      "cell_type": "markdown",
      "id": "3b7acf54-e4a0-414c-b65b-d3a19d22ac60",
      "metadata": {
        "id": "3b7acf54-e4a0-414c-b65b-d3a19d22ac60"
      },
      "source": [
        "---\n",
        "## Setup"
      ]
    },
    {
      "cell_type": "markdown",
      "id": "2199197a-de7f-4c6a-b204-f9d0e0577e03",
      "metadata": {
        "id": "2199197a-de7f-4c6a-b204-f9d0e0577e03"
      },
      "source": [
        "Inputs"
      ]
    },
    {
      "cell_type": "code",
      "execution_count": null,
      "id": "51f35ee8-fd15-45f2-913b-36c87be3a1bb",
      "metadata": {
        "id": "51f35ee8-fd15-45f2-913b-36c87be3a1bb",
        "tags": []
      },
      "outputs": [],
      "source": [
        "project = !gcloud config get-value project\n",
        "PROJECT_ID = project[0]\n",
        "PROJECT_ID"
      ]
    },
    {
      "cell_type": "code",
      "execution_count": null,
      "id": "8f413d63-ecb4-42c5-a4c1-cb415e62e9bd",
      "metadata": {
        "id": "8f413d63-ecb4-42c5-a4c1-cb415e62e9bd",
        "tags": []
      },
      "outputs": [],
      "source": [
        "REGION = 'us-central1'\n",
        "SERIES = 'mlops'\n",
        "EXPERIMENT = 'pipeline-intro'\n",
        "\n",
        "# gcs bucket\n",
        "GCS_BUCKET = PROJECT_ID\n",
        "\n",
        "# Private Artifact Repository Python repo\n",
        "PYTHON_REPO_PRIVATE=\"python-repo-vertex\"\n",
        "\n",
        "# Public PyPI Remote Repo\n",
        "PYTHON_REPO_REMOTE=\"python-remote-repo\"\n",
        "\n",
        "# Training Container Image\n",
        "PRIVATE_REPO = \"kfp-base-images\"\n",
        "BASE_IMAGE = (\n",
        "    f\"{REGION}-docker.pkg.dev/{PROJECT_ID}/{PRIVATE_REPO}/python-3.11-slim:latest\"\n",
        ")"
      ]
    },
    {
      "cell_type": "code",
      "source": [
        "############## Vertex AI Custom Job Service Account ###########################\n",
        "PROJECT_NUMBER = !(gcloud projects describe $PROJECT_ID --format=\"value(projectNumber)\")\n",
        "PROJECT_NUMBER = PROJECT_NUMBER[0]\n",
        "\n",
        "# This option creates a service account to use with Vertex AI Pipelines\n",
        "SERVICE_ACCOUNT_NAME = \"vertex-ai-sa\"\n",
        "SERVICE_ACCOUNT = f\"vertex-ai-sa@{PROJECT_ID}.iam.gserviceaccount.com\"\n",
        "\n",
        "# This option uses the default compute engine service account\n",
        "# SERVICE_ACCOUNT = !gcloud config list --format='value(core.account)'\n",
        "# SERVICE_ACCOUNT = SERVICE_ACCOUNT[0]\n",
        "# SERVICE_ACCOUNT = f\"{PROJECT_NUMBER}-compute@developer.gserviceaccount.com\""
      ],
      "metadata": {
        "id": "sKE8dZxhKb_z"
      },
      "id": "sKE8dZxhKb_z",
      "execution_count": null,
      "outputs": []
    },
    {
      "cell_type": "markdown",
      "id": "b184d93a-9af7-4601-82a1-cc592cf226b2",
      "metadata": {
        "id": "b184d93a-9af7-4601-82a1-cc592cf226b2"
      },
      "source": [
        "Packages"
      ]
    },
    {
      "cell_type": "code",
      "execution_count": null,
      "id": "9ea8f342-a55a-47c0-882b-10e2fdf91192",
      "metadata": {
        "id": "9ea8f342-a55a-47c0-882b-10e2fdf91192",
        "tags": []
      },
      "outputs": [],
      "source": [
        "import os, time, importlib\n",
        "from typing import NamedTuple\n",
        "from IPython.display import Markdown as show_md\n",
        "\n",
        "from google.cloud import aiplatform\n",
        "import kfp"
      ]
    },
    {
      "cell_type": "code",
      "execution_count": null,
      "id": "d3aa007c-152b-42c0-8207-a8a3af0e8e36",
      "metadata": {
        "id": "d3aa007c-152b-42c0-8207-a8a3af0e8e36",
        "tags": []
      },
      "outputs": [],
      "source": [
        "kfp.__version__"
      ]
    },
    {
      "cell_type": "code",
      "execution_count": null,
      "id": "03845691-170e-4d0e-98ff-4be1189f3afc",
      "metadata": {
        "id": "03845691-170e-4d0e-98ff-4be1189f3afc",
        "tags": []
      },
      "outputs": [],
      "source": [
        "aiplatform.__version__"
      ]
    },
    {
      "cell_type": "markdown",
      "id": "29e0fb56-67dd-4eb8-be65-7a75dd7113ff",
      "metadata": {
        "id": "29e0fb56-67dd-4eb8-be65-7a75dd7113ff"
      },
      "source": [
        "Clients"
      ]
    },
    {
      "cell_type": "code",
      "execution_count": null,
      "id": "7e09bb7e-49fe-4086-b338-c5ec8e1f4509",
      "metadata": {
        "id": "7e09bb7e-49fe-4086-b338-c5ec8e1f4509",
        "tags": []
      },
      "outputs": [],
      "source": [
        "# vertex ai clients\n",
        "aiplatform.init(project = PROJECT_ID, location = REGION)"
      ]
    },
    {
      "cell_type": "markdown",
      "id": "c328f7bc-cc73-474c-bb6a-d2b32f1d8d1a",
      "metadata": {
        "id": "c328f7bc-cc73-474c-bb6a-d2b32f1d8d1a"
      },
      "source": [
        "parameters:"
      ]
    },
    {
      "cell_type": "code",
      "execution_count": null,
      "id": "5fae4399-e55c-40d4-9e22-050f11ea8aac",
      "metadata": {
        "id": "5fae4399-e55c-40d4-9e22-050f11ea8aac",
        "tags": []
      },
      "outputs": [],
      "source": [
        "DIR = f\"temp/{SERIES}-{EXPERIMENT}\""
      ]
    },
    {
      "cell_type": "markdown",
      "id": "de40a8b2-2050-48d6-ac78-b2c64b3d4604",
      "metadata": {
        "id": "de40a8b2-2050-48d6-ac78-b2c64b3d4604"
      },
      "source": [
        "environment:"
      ]
    },
    {
      "cell_type": "code",
      "execution_count": null,
      "id": "8665838f-2345-44da-a9cd-e1be2341f445",
      "metadata": {
        "id": "8665838f-2345-44da-a9cd-e1be2341f445",
        "tags": []
      },
      "outputs": [],
      "source": [
        "if not os.path.exists(DIR):\n",
        "    os.makedirs(DIR)"
      ]
    },
    {
      "cell_type": "markdown",
      "id": "442b6c64",
      "metadata": {
        "id": "442b6c64"
      },
      "source": [
        "### Service Account Creation and IAM Grants"
      ]
    },
    {
      "cell_type": "markdown",
      "id": "44a6b0fe",
      "metadata": {
        "id": "44a6b0fe"
      },
      "source": [
        "Create Service Account (if needed)"
      ]
    },
    {
      "cell_type": "code",
      "execution_count": null,
      "id": "89bd7f37",
      "metadata": {
        "id": "89bd7f37"
      },
      "outputs": [],
      "source": [
        "!gcloud iam service-accounts create $SERVICE_ACCOUNT_NAME \\\n",
        "  --description=\"Vertex AI Service account for Custom Training Jobs\" \\\n",
        "  --display-name=\"vertex-ai-sa\""
      ]
    },
    {
      "cell_type": "markdown",
      "id": "fe2d1ca5",
      "metadata": {
        "id": "fe2d1ca5"
      },
      "source": [
        "Grant the SA IAM roles on your project to created Service Account (if needed)"
      ]
    },
    {
      "cell_type": "code",
      "execution_count": null,
      "id": "c5a10f53",
      "metadata": {
        "id": "c5a10f53"
      },
      "outputs": [],
      "source": [
        "!gcloud projects add-iam-policy-binding $PROJECT_ID \\\n",
        "  --member=\"serviceAccount:$SERVICE_ACCOUNT\" \\\n",
        "  --role=\"roles/aiplatform.user\"\n",
        "\n",
        "!gcloud projects add-iam-policy-binding $PROJECT_ID \\\n",
        "  --member=\"serviceAccount:$SERVICE_ACCOUNT\" \\\n",
        "  --role=\"roles/artifactregistry.reader\"\n",
        "\n",
        "!gcloud projects add-iam-policy-binding $PROJECT_ID \\\n",
        "  --member=\"serviceAccount:$SERVICE_ACCOUNT\" \\\n",
        "  --role=\"roles/monitoring.metricWriter\"\n",
        "\n",
        "!gcloud projects add-iam-policy-binding $PROJECT_ID \\\n",
        "  --member=\"serviceAccount:$SERVICE_ACCOUNT\" \\\n",
        "  --role=\"roles/logging.logWriter\"\n",
        "\n",
        "!gcloud projects add-iam-policy-binding $PROJECT_ID \\\n",
        "  --member=\"serviceAccount:$SERVICE_ACCOUNT\" \\\n",
        "  --role=\"roles/storage.objectUser\""
      ]
    },
    {
      "cell_type": "markdown",
      "id": "e12e93dd-7358-4c3c-9178-a71fd6d0c0b0",
      "metadata": {
        "id": "e12e93dd-7358-4c3c-9178-a71fd6d0c0b0"
      },
      "source": [
        "---\n",
        "## KFP Pipeline On Vertex AI Pipelines\n",
        "\n",
        "An example workflow: a KFP pipeline constructed from custom components and run on Vertex AI Pipelines."
      ]
    },
    {
      "cell_type": "markdown",
      "id": "7bd0080c-71d5-438a-b425-7232f267367d",
      "metadata": {
        "id": "7bd0080c-71d5-438a-b425-7232f267367d"
      },
      "source": [
        "### Create Pipeline Components\n",
        "\n",
        "These are simple Python components, specifically lightweight Python components.  "
      ]
    },
    {
      "cell_type": "markdown",
      "id": "8da1aa88-a87a-49ec-ac43-ad11ee3e85dd",
      "metadata": {
        "id": "8da1aa88-a87a-49ec-ac43-ad11ee3e85dd"
      },
      "source": [
        "Simple component with multiple inputs of different data types and outputs a dictionary."
      ]
    },
    {
      "cell_type": "code",
      "execution_count": null,
      "id": "469614bd-e3ba-4ca9-aee2-fa59f34556e9",
      "metadata": {
        "id": "469614bd-e3ba-4ca9-aee2-fa59f34556e9",
        "tags": []
      },
      "outputs": [],
      "source": [
        "packages_to_install = [\"pandas\", \"google-genai\"]\n",
        "# Test either repo\n",
        "# PYTHON_REPO = PYTHON_REPO_PRIVATE\n",
        "PYTHON_REPO = PYTHON_REPO_REMOTE\n",
        "@kfp.dsl.component(\n",
        "    #base_image = \"python:3.11\",\n",
        "    base_image = BASE_IMAGE, # This previously configured image has keyring to authenenticate to Artifact Registry\n",
        "    install_kfp_package = False,\n",
        "    packages_to_install = packages_to_install,\n",
        "    pip_index_urls = [f\"https://us-central1-python.pkg.dev/{PROJECT_ID}/{PYTHON_REPO}/simple/\"]*len(packages_to_install)\n",
        ")\n",
        "def example_parameters(\n",
        "    in_str: str,\n",
        "    in_int: int,\n",
        "    in_float: float,\n",
        "    in_bool: bool,\n",
        "    in_list: list\n",
        ") -> dict:\n",
        "    results = dict(\n",
        "        ex_str = in_str,\n",
        "        ex_int = in_int,\n",
        "        ex_float = in_float,\n",
        "        ex_bool = in_bool,\n",
        "        ex_list = in_list\n",
        "    )\n",
        "    return results"
      ]
    },
    {
      "cell_type": "markdown",
      "id": "e56aaa43-7109-44ab-82a9-6b1a7b889fdf",
      "metadata": {
        "id": "e56aaa43-7109-44ab-82a9-6b1a7b889fdf"
      },
      "source": [
        "Simple component that take input parameters and outputs an artifact."
      ]
    },
    {
      "cell_type": "code",
      "execution_count": null,
      "id": "2ea209fb-1bfe-4c8e-86f2-ac7201ad380f",
      "metadata": {
        "id": "2ea209fb-1bfe-4c8e-86f2-ac7201ad380f",
        "tags": []
      },
      "outputs": [],
      "source": [
        "packages_to_install = [\"pandas\", \"google-genai\"]\n",
        "# Test either repo\n",
        "# PYTHON_REPO = PYTHON_REPO_PRIVATE\n",
        "PYTHON_REPO = PYTHON_REPO_REMOTE\n",
        "@kfp.dsl.component(\n",
        "    #base_image = \"python:3.11\",\n",
        "    base_image = BASE_IMAGE, # This previously configured image has keyring to authenenticate to Artifact Registry\n",
        "    install_kfp_package = False,\n",
        "    packages_to_install = packages_to_install,\n",
        "    pip_index_urls = [f\"https://us-central1-python.pkg.dev/{PROJECT_ID}/{PYTHON_REPO}/simple/\"]*len(packages_to_install)\n",
        ")\n",
        "def example_artifact(\n",
        "    metadata: dict\n",
        ") -> kfp.dsl.Artifact:\n",
        "    ex_artifact = kfp.dsl.Artifact(\n",
        "        metadata = metadata,\n",
        "        uri = 'https://www.kubeflow.org/docs/components/pipelines/v2/data-types/artifacts/#artifact-types'\n",
        "    )\n",
        "    return ex_artifact"
      ]
    },
    {
      "cell_type": "markdown",
      "id": "7cb192dd-4e08-445b-addf-e37a2e44a59c",
      "metadata": {
        "id": "7cb192dd-4e08-445b-addf-e37a2e44a59c"
      },
      "source": [
        "### Create Pipeline"
      ]
    },
    {
      "cell_type": "code",
      "execution_count": null,
      "id": "087bfbf0-4415-4b46-93f7-43f956095d3d",
      "metadata": {
        "id": "087bfbf0-4415-4b46-93f7-43f956095d3d",
        "tags": []
      },
      "outputs": [],
      "source": [
        "@kfp.dsl.pipeline(\n",
        "    name = f'{SERIES}-{EXPERIMENT}',\n",
        "    description = 'An introduction pipeline',\n",
        "    pipeline_root = f'gs://{GCS_BUCKET}/{SERIES}/{EXPERIMENT}/pipeline_root'\n",
        ")\n",
        "def intro_pipeline(\n",
        "    in_str: str,\n",
        "    in_int: int,\n",
        "    in_float: float,\n",
        "    in_bool: bool,\n",
        "    in_list: list\n",
        ") -> dict:\n",
        "\n",
        "    task1 = example_parameters(\n",
        "        in_str = in_str,\n",
        "        in_int = in_int,\n",
        "        in_float = in_float,\n",
        "        in_bool = in_bool,\n",
        "        in_list = in_list\n",
        "    )\n",
        "\n",
        "    with kfp.dsl.If(in_bool == True, name = 'Proceed If True'):\n",
        "        task2 = example_artifact(metadata = task1.output)\n",
        "\n",
        "    return task1.output"
      ]
    },
    {
      "cell_type": "markdown",
      "id": "ce3ea375-7939-41b0-9f94-9e7e5b2ea8db",
      "metadata": {
        "id": "ce3ea375-7939-41b0-9f94-9e7e5b2ea8db"
      },
      "source": [
        "### Compile Pipeline"
      ]
    },
    {
      "cell_type": "code",
      "execution_count": null,
      "id": "9ade9261-18bf-4049-8144-6835772f6d04",
      "metadata": {
        "id": "9ade9261-18bf-4049-8144-6835772f6d04",
        "tags": []
      },
      "outputs": [],
      "source": [
        "kfp.compiler.Compiler().compile(\n",
        "    pipeline_func = intro_pipeline,\n",
        "    package_path = f'{DIR}/{SERIES}-{EXPERIMENT}.yaml'\n",
        ")"
      ]
    },
    {
      "cell_type": "markdown",
      "id": "c54d6ca7-454f-4133-82a0-63d9666561e3",
      "metadata": {
        "id": "c54d6ca7-454f-4133-82a0-63d9666561e3"
      },
      "source": [
        "### Create Pipeline Job (With Vertex AI SDK)\n",
        "\n",
        "The compiled pipeline file can be submitted for running with the console or the SDK (shown here).  Check out the details in the documentation [here](https://cloud.google.com/vertex-ai/docs/pipelines/run-pipeline#create_a_pipeline_run) for an overview with the console.\n"
      ]
    },
    {
      "cell_type": "code",
      "execution_count": null,
      "id": "cc5ff736-d3be-4a39-91b8-e2710dd98e0b",
      "metadata": {
        "id": "cc5ff736-d3be-4a39-91b8-e2710dd98e0b",
        "tags": []
      },
      "outputs": [],
      "source": [
        "pipeline_job = aiplatform.PipelineJob(\n",
        "    display_name = f\"{SERIES}-{EXPERIMENT}\",\n",
        "    template_path = f\"{DIR}/{SERIES}-{EXPERIMENT}.yaml\",\n",
        "    parameter_values = dict(\n",
        "        in_str = 'An Example String',\n",
        "        in_int = 45,\n",
        "        in_float = 4.5,\n",
        "        in_bool = True,\n",
        "        in_list = [1, 27, 'Another String']\n",
        "    ),\n",
        "    pipeline_root = f'gs://{GCS_BUCKET}/{SERIES}/{EXPERIMENT}/pipeline_root',\n",
        "    enable_caching = False # True (enabled), False (disable), None (defer to component level caching)\n",
        ")"
      ]
    },
    {
      "cell_type": "markdown",
      "id": "f3915c92-a627-4723-9b60-0977f54dd32d",
      "metadata": {
        "id": "f3915c92-a627-4723-9b60-0977f54dd32d"
      },
      "source": [
        "### Submit Pipeline Job (On Vertex AI Pipelines)"
      ]
    },
    {
      "cell_type": "code",
      "execution_count": null,
      "id": "4d5ede69-a217-4a68-bade-37731c18becf",
      "metadata": {
        "id": "4d5ede69-a217-4a68-bade-37731c18becf",
        "tags": []
      },
      "outputs": [],
      "source": [
        "response = pipeline_job.submit(\n",
        "    service_account = SERVICE_ACCOUNT,\n",
        ")"
      ]
    },
    {
      "cell_type": "code",
      "execution_count": null,
      "id": "686eced5-6c92-4dd0-9535-1f0cbcda208f",
      "metadata": {
        "id": "686eced5-6c92-4dd0-9535-1f0cbcda208f",
        "tags": []
      },
      "outputs": [],
      "source": [
        "show_md(f'The Dashboard can be viewed here:\\n{pipeline_job._dashboard_uri()}')"
      ]
    },
    {
      "cell_type": "code",
      "execution_count": null,
      "id": "37069dd0-997e-44c7-a915-6f75f4ca9f97",
      "metadata": {
        "id": "37069dd0-997e-44c7-a915-6f75f4ca9f97",
        "tags": []
      },
      "outputs": [],
      "source": [
        "pipeline_job.wait()"
      ]
    },
    {
      "cell_type": "markdown",
      "id": "50ffb1a7-6fbf-4236-8177-e640e5c52c84",
      "metadata": {
        "id": "50ffb1a7-6fbf-4236-8177-e640e5c52c84"
      },
      "source": [
        "---\n",
        "## Results: Vertex AI Console And SDK\n",
        "\n",
        "As soon as the job is submitted the response gives a link to the the dashboard view in the console for Vertex AI Pipelines.  Using this link, or navigating directly though Vertex AI, gives a dashboard view of the pipeline as it is running with progress indicatiors for each task.  This information call also be retrieved using the Vertex AI SDK. Both approaches will be covered in this section for:\n",
        "- Pipeline Run\n",
        "- Pipeline Run Tasks Level\n",
        "- Pipeline IO Artifacts\n",
        "- Artifact Lineage In Vertex AI ML Metadata"
      ]
    },
    {
      "cell_type": "markdown",
      "id": "d7ac76ce-c3ff-411a-9cd5-197da68f41f0",
      "metadata": {
        "id": "d7ac76ce-c3ff-411a-9cd5-197da68f41f0"
      },
      "source": [
        "### Pipeline Run Overview\n",
        "**Pipelines Runs List In The Console: Review All Runs And Select Pipeline Run**\n",
        "<p><center>\n",
        "    <img src=\"https://github.com/statmike/vertex-ai-mlops/blob/main/MLOps/resources/images/screenshots/pipelines/intro/runs.png?raw=1\" width=\"75%\">\n",
        "</center><p>\n",
        "\n",
        "\n",
        "**Pipeline Dashboard View In The Console: Overall Pipeline**\n",
        "<p><center>\n",
        "    <img src=\"https://github.com/statmike/vertex-ai-mlops/blob/main/MLOps/resources/images/screenshots/pipelines/intro/overview.png?raw=1\" width=\"75%\">\n",
        "</center><p>\n",
        "\n",
        "Note that:\n",
        "- each node, or tasks, is displayed.\n",
        "- the connections between nodes are visual and reflect the input/output dependencies\n",
        "- the node purpose is reflected with an icon and the status is reflected with an icon and color coding\n",
        "- a summary of the pipeline run is provide on the right and includes all the pipelines inputs parameters.\n",
        "\n",
        "    \n",
        "The same information can be retrieved with the Vertex AI SDK as follows.\n",
        "- SDK Reference: [`aiplatform.PipelineJob`](https://cloud.google.com/python/docs/reference/aiplatform/latest/google.cloud.aiplatform.PipelineJob)"
      ]
    },
    {
      "cell_type": "markdown",
      "id": "3197b368-a16c-4484-988a-91ac93ba15ef",
      "metadata": {
        "id": "3197b368-a16c-4484-988a-91ac93ba15ef"
      },
      "source": [
        "#### Retrieve Latest Run: By Display Name"
      ]
    },
    {
      "cell_type": "code",
      "execution_count": null,
      "id": "1f02afef-4000-4d14-9ff9-f74757e3dfe9",
      "metadata": {
        "id": "1f02afef-4000-4d14-9ff9-f74757e3dfe9",
        "tags": []
      },
      "outputs": [],
      "source": [
        "aiplatform.PipelineJob.list(\n",
        "    project = PROJECT_ID,\n",
        "    location = REGION,\n",
        "    filter = f'display_name=\"{SERIES}-{EXPERIMENT}\"',\n",
        "    order_by='update_time desc'\n",
        ")[0]"
      ]
    },
    {
      "cell_type": "markdown",
      "id": "e27fb80e-3834-49d6-a4c5-dc1aa89392f0",
      "metadata": {
        "id": "e27fb80e-3834-49d6-a4c5-dc1aa89392f0"
      },
      "source": [
        "#### Retrieve all runs to dataframe:\n",
        "- SDK Refrence: [`aiplatform.get_pipeline_df`](https://cloud.google.com/python/docs/reference/aiplatform/latest/google.cloud.aiplatform#google_cloud_aiplatform_get_pipeline_df)"
      ]
    },
    {
      "cell_type": "code",
      "execution_count": null,
      "id": "4b9abeb4-b293-4d49-8895-f27df6142d88",
      "metadata": {
        "id": "4b9abeb4-b293-4d49-8895-f27df6142d88",
        "tags": []
      },
      "outputs": [],
      "source": [
        "aiplatform.get_pipeline_df(pipeline = f'{SERIES}-{EXPERIMENT}')"
      ]
    },
    {
      "cell_type": "markdown",
      "id": "183e92db-0c1a-4b04-b288-ecb58b69e191",
      "metadata": {
        "id": "183e92db-0c1a-4b04-b288-ecb58b69e191"
      },
      "source": [
        "#### Review PipelineJob Object"
      ]
    },
    {
      "cell_type": "code",
      "execution_count": null,
      "id": "72fddfbf-9721-41ec-bbff-1b2495393b5c",
      "metadata": {
        "id": "72fddfbf-9721-41ec-bbff-1b2495393b5c",
        "tags": []
      },
      "outputs": [],
      "source": [
        "pipeline_job"
      ]
    },
    {
      "cell_type": "code",
      "execution_count": null,
      "id": "e1a12b1c-e66c-4454-b0da-4d764b974cfc",
      "metadata": {
        "id": "e1a12b1c-e66c-4454-b0da-4d764b974cfc",
        "tags": []
      },
      "outputs": [],
      "source": [
        "type(pipeline_job)"
      ]
    },
    {
      "cell_type": "code",
      "execution_count": null,
      "id": "76b63ff5-cdf7-4e3a-bfce-f3afae545861",
      "metadata": {
        "id": "76b63ff5-cdf7-4e3a-bfce-f3afae545861",
        "tags": []
      },
      "outputs": [],
      "source": [
        "pipeline_job.state"
      ]
    },
    {
      "cell_type": "code",
      "execution_count": null,
      "id": "26f4709f-c306-4107-a063-af5f4a4a1065",
      "metadata": {
        "id": "26f4709f-c306-4107-a063-af5f4a4a1065",
        "tags": []
      },
      "outputs": [],
      "source": [
        "pipeline_job.display_name"
      ]
    },
    {
      "cell_type": "code",
      "execution_count": null,
      "id": "4a4951e1-a0e3-4fb5-a7ee-dd07277c4d8a",
      "metadata": {
        "id": "4a4951e1-a0e3-4fb5-a7ee-dd07277c4d8a",
        "tags": []
      },
      "outputs": [],
      "source": [
        "pipeline_job.name"
      ]
    },
    {
      "cell_type": "code",
      "execution_count": null,
      "id": "f4e387c5-6d31-4842-a24d-dfde03759a4b",
      "metadata": {
        "id": "f4e387c5-6d31-4842-a24d-dfde03759a4b",
        "tags": []
      },
      "outputs": [],
      "source": [
        "pipeline_job.to_dict().keys()"
      ]
    },
    {
      "cell_type": "code",
      "execution_count": null,
      "id": "c17c96bf-a3cc-4d8a-9f39-330953f1c656",
      "metadata": {
        "id": "c17c96bf-a3cc-4d8a-9f39-330953f1c656",
        "tags": []
      },
      "outputs": [],
      "source": [
        "pipeline_job.to_dict()['pipelineSpec'].keys()"
      ]
    },
    {
      "cell_type": "markdown",
      "id": "961a5bd0-0a29-4fb5-83e9-f2e2d866187a",
      "metadata": {
        "id": "961a5bd0-0a29-4fb5-83e9-f2e2d866187a"
      },
      "source": [
        "### Pipeline Run: Task Overview\n",
        "\n",
        "Each component used in the pipeline created a task.  These task can be retrieved, reviewed, and even examine for input/ouput values of parameters.\n",
        "\n",
        "**Pipeline Dashboard View In The Console: Task Level Details**\n",
        "<p><center>\n",
        "    <img src=\"https://github.com/statmike/vertex-ai-mlops/blob/main/MLOps/resources/images/screenshots/pipelines/intro/overview.png?raw=1\" width=\"75%\">\n",
        "</center><p>"
      ]
    },
    {
      "cell_type": "markdown",
      "id": "726304e5-4c65-4c0b-ba83-b0dc67fc439f",
      "metadata": {
        "id": "726304e5-4c65-4c0b-ba83-b0dc67fc439f"
      },
      "source": [
        "#### Review Tasks with `PipelineJob.task_details`"
      ]
    },
    {
      "cell_type": "code",
      "execution_count": null,
      "id": "b41c6454-63d3-4292-b183-4a2d6643175a",
      "metadata": {
        "id": "b41c6454-63d3-4292-b183-4a2d6643175a",
        "tags": []
      },
      "outputs": [],
      "source": [
        "[(task.task_name, task.state) for task in pipeline_job.task_details]"
      ]
    },
    {
      "cell_type": "code",
      "execution_count": null,
      "id": "4f46c860-06b8-4ab0-854a-98c32d0f90d2",
      "metadata": {
        "id": "4f46c860-06b8-4ab0-854a-98c32d0f90d2",
        "tags": []
      },
      "outputs": [],
      "source": [
        "tasks = {task.task_name: task for task in pipeline_job.task_details}"
      ]
    },
    {
      "cell_type": "code",
      "execution_count": null,
      "id": "f6fa000c-90a8-44ee-b614-e970b0eb7c4c",
      "metadata": {
        "id": "f6fa000c-90a8-44ee-b614-e970b0eb7c4c",
        "tags": []
      },
      "outputs": [],
      "source": [
        "#tasks['example-parameters'].execution.metadata"
      ]
    },
    {
      "cell_type": "markdown",
      "id": "83d33488-b0dc-4ea0-a7dc-4580408c9de3",
      "metadata": {
        "id": "83d33488-b0dc-4ea0-a7dc-4580408c9de3"
      },
      "source": [
        "#### Review Tasks With `PipelineJob.gca_resource` As Dictionary with `.to_dict()`"
      ]
    },
    {
      "cell_type": "code",
      "execution_count": null,
      "id": "89da8a0c-81bb-40fb-adb3-6ea31877b1e4",
      "metadata": {
        "id": "89da8a0c-81bb-40fb-adb3-6ea31877b1e4",
        "tags": []
      },
      "outputs": [],
      "source": [
        "pipeline_job.to_dict()['jobDetail']['taskDetails'][1]['execution']['metadata']"
      ]
    },
    {
      "cell_type": "markdown",
      "id": "c17e7703-4d69-4655-9c1b-b03ef38ec6e0",
      "metadata": {
        "id": "c17e7703-4d69-4655-9c1b-b03ef38ec6e0"
      },
      "source": [
        "### Pipeline Run: `CustomJob` For Task:\n",
        "\n",
        "Each task runs as a Vertex AI Training Job.  The details of these jobs can also be reviewed directly from the console by click the 'VIEW JOB' link in the task overview panel.  This opens the exact training job under Vertex AI Training:\n",
        "\n",
        "**Vertex AI Training Job In The Console: Task Level Job Resources**\n",
        "<p><center>\n",
        "    <img src=\"https://github.com/statmike/vertex-ai-mlops/blob/main/MLOps/resources/images/screenshots/pipelines/intro/job.png?raw=1\" width=\"75%\">\n",
        "</center><p>"
      ]
    },
    {
      "cell_type": "markdown",
      "id": "f35a1770-d533-4190-b559-255269e2a275",
      "metadata": {
        "id": "f35a1770-d533-4190-b559-255269e2a275"
      },
      "source": [
        "### Retrieve `CustomJob` Details Using `PipelineJob` object:"
      ]
    },
    {
      "cell_type": "code",
      "execution_count": null,
      "id": "59040177-875b-470a-af64-ba33056ab7c6",
      "metadata": {
        "id": "59040177-875b-470a-af64-ba33056ab7c6",
        "tags": []
      },
      "outputs": [],
      "source": [
        "task_job_id = pipeline_job.to_dict()['jobDetail']['taskDetails'][1]['executorDetail']['containerDetail']['mainJob']\n",
        "task_job_id"
      ]
    },
    {
      "cell_type": "code",
      "execution_count": null,
      "id": "4a1a947a-53a7-4b6c-ab44-27984c10f185",
      "metadata": {
        "id": "4a1a947a-53a7-4b6c-ab44-27984c10f185",
        "tags": []
      },
      "outputs": [],
      "source": [
        "task_job = aiplatform.CustomJob.get(resource_name = task_job_id)"
      ]
    },
    {
      "cell_type": "code",
      "execution_count": null,
      "id": "be628c39-046b-4016-b5ce-321c8a95a6bd",
      "metadata": {
        "id": "be628c39-046b-4016-b5ce-321c8a95a6bd",
        "tags": []
      },
      "outputs": [],
      "source": [
        "type(task_job)"
      ]
    },
    {
      "cell_type": "code",
      "execution_count": null,
      "id": "b787e151-fcd4-4aec-8e0d-dda8df9f57db",
      "metadata": {
        "id": "b787e151-fcd4-4aec-8e0d-dda8df9f57db",
        "tags": []
      },
      "outputs": [],
      "source": [
        "task_job"
      ]
    },
    {
      "cell_type": "code",
      "execution_count": null,
      "id": "9547c5ae-f5f0-4548-98ad-210138173cc5",
      "metadata": {
        "id": "9547c5ae-f5f0-4548-98ad-210138173cc5",
        "tags": []
      },
      "outputs": [],
      "source": [
        "task_job.display_name"
      ]
    },
    {
      "cell_type": "code",
      "execution_count": null,
      "id": "c8d7d818-609c-4990-987c-9040477d0976",
      "metadata": {
        "id": "c8d7d818-609c-4990-987c-9040477d0976",
        "tags": []
      },
      "outputs": [],
      "source": [
        "task_job.to_dict()"
      ]
    },
    {
      "cell_type": "markdown",
      "id": "1507586c-ec21-4cca-b350-5bf4c42abf46",
      "metadata": {
        "id": "1507586c-ec21-4cca-b350-5bf4c42abf46"
      },
      "source": [
        "### Pipeline IO Artifacts\n",
        "\n",
        "The pipeline task created from the `example_artifact` component returned an artifact (`kfp.dsl.Artifact`) as output.  Pipelines automatically store artifacts in Vertex AI ML Metadata.\n",
        "\n",
        "**Pipeline Dashboard View In The Console: Artifact Info**\n",
        "<p><center>\n",
        "    <img src=\"https://github.com/statmike/vertex-ai-mlops/blob/main/MLOps/resources/images/screenshots/pipelines/intro/overview.png?raw=1\" width=\"75%\">\n",
        "</center><p>"
      ]
    },
    {
      "cell_type": "markdown",
      "id": "31a18dd0-c2be-4fe9-b356-33f2d3a43cfb",
      "metadata": {
        "id": "31a18dd0-c2be-4fe9-b356-33f2d3a43cfb"
      },
      "source": [
        "#### Retrieve Artifact Info From `PipelineJob`"
      ]
    },
    {
      "cell_type": "code",
      "execution_count": null,
      "id": "d5972905-e492-47ee-9382-e8eb09c38edd",
      "metadata": {
        "id": "d5972905-e492-47ee-9382-e8eb09c38edd",
        "tags": []
      },
      "outputs": [],
      "source": [
        "pipeline_job.to_dict()['jobDetail']['taskDetails'][3]['execution']['metadata']"
      ]
    },
    {
      "cell_type": "code",
      "execution_count": null,
      "id": "753a7abc-402e-4246-a726-c733abe545cc",
      "metadata": {
        "id": "753a7abc-402e-4246-a726-c733abe545cc",
        "tags": []
      },
      "outputs": [],
      "source": [
        "artifact_id = pipeline_job.to_dict()['jobDetail']['taskDetails'][3]['execution']['metadata']['vertex-ai-pipelines-artifact-argument-binding']['output:Output'][0]\n",
        "artifact_id"
      ]
    },
    {
      "cell_type": "code",
      "execution_count": null,
      "id": "4069f6f6-29b8-4693-a716-dda20197195b",
      "metadata": {
        "id": "4069f6f6-29b8-4693-a716-dda20197195b",
        "tags": []
      },
      "outputs": [],
      "source": [
        "artifact = aiplatform.Artifact.get(resource_id = artifact_id)"
      ]
    },
    {
      "cell_type": "code",
      "execution_count": null,
      "id": "bea5c667-9e64-4457-91b0-c4885b909ebf",
      "metadata": {
        "id": "bea5c667-9e64-4457-91b0-c4885b909ebf",
        "tags": []
      },
      "outputs": [],
      "source": [
        "artifact.uri"
      ]
    },
    {
      "cell_type": "code",
      "execution_count": null,
      "id": "58d99578-0057-47d4-89e2-ed17eb2d5cb7",
      "metadata": {
        "id": "58d99578-0057-47d4-89e2-ed17eb2d5cb7",
        "tags": []
      },
      "outputs": [],
      "source": [
        "artifact.metadata"
      ]
    },
    {
      "cell_type": "markdown",
      "id": "c3bf1e40-dd46-4256-b249-582cc49dbd24",
      "metadata": {
        "id": "c3bf1e40-dd46-4256-b249-582cc49dbd24"
      },
      "source": [
        "#### Retrieve Pipeline Artifacts Vertex AI SDK\n",
        "\n",
        "- [`aiplatform.Artifact()`](https://cloud.google.com/python/docs/reference/aiplatform/latest/google.cloud.aiplatform.Artifact)"
      ]
    },
    {
      "cell_type": "code",
      "execution_count": null,
      "id": "af920f02-b979-4b04-99c2-f2d72dfd8f96",
      "metadata": {
        "id": "af920f02-b979-4b04-99c2-f2d72dfd8f96",
        "tags": []
      },
      "outputs": [],
      "source": [
        "artifacts = aiplatform.Artifact.list(\n",
        "    filter = \"metadata.ex_bool.bool_value = true\"\n",
        ")"
      ]
    },
    {
      "cell_type": "code",
      "execution_count": null,
      "id": "357f2324-adfa-4eaa-bcef-38698f041541",
      "metadata": {
        "id": "357f2324-adfa-4eaa-bcef-38698f041541",
        "tags": []
      },
      "outputs": [],
      "source": [
        "artifacts"
      ]
    },
    {
      "cell_type": "code",
      "execution_count": null,
      "id": "0d5bc287-681f-4776-889f-ca77d69ff766",
      "metadata": {
        "id": "0d5bc287-681f-4776-889f-ca77d69ff766",
        "tags": []
      },
      "outputs": [],
      "source": [
        "type(artifacts[0])"
      ]
    },
    {
      "cell_type": "code",
      "execution_count": null,
      "id": "c859f958-4d2e-4500-a8d4-e270e3ba5ed1",
      "metadata": {
        "id": "c859f958-4d2e-4500-a8d4-e270e3ba5ed1",
        "tags": []
      },
      "outputs": [],
      "source": [
        "artifacts[0].metadata"
      ]
    },
    {
      "cell_type": "code",
      "execution_count": null,
      "id": "4ab15c67-4034-4fe7-ad29-9e33c2195fc4",
      "metadata": {
        "id": "4ab15c67-4034-4fe7-ad29-9e33c2195fc4",
        "tags": []
      },
      "outputs": [],
      "source": [
        "artifacts[0].lineage_console_uri"
      ]
    },
    {
      "cell_type": "markdown",
      "id": "021295c2-4011-4170-854f-a195f7a542ec",
      "metadata": {
        "id": "021295c2-4011-4170-854f-a195f7a542ec"
      },
      "source": [
        "### Pipeline IO Artifact Metadata Lineage\n",
        "\n",
        "The consolve view of artifact info include a link to the Vertex AI ML Metadata.  This link can also be directly retrieved for the artifact using the SDK with `lineage_console_uri` attribute.  This ones the lineage view of the artifact in the Vertex AI ML Metadata Console.\n",
        "\n",
        "\n",
        "**Vertex AI ML Metadata Console: Artifact Lineage**\n",
        "<p><center>\n",
        "    <img src=\"https://github.com/statmike/vertex-ai-mlops/blob/main/MLOps/resources/images/screenshots/pipelines/intro/metadata.png?raw=1\" width=\"75%\">\n",
        "</center><p>"
      ]
    },
    {
      "cell_type": "code",
      "execution_count": null,
      "id": "39bdfa91-7451-425d-975d-c48e0a8cc872",
      "metadata": {
        "id": "39bdfa91-7451-425d-975d-c48e0a8cc872",
        "tags": []
      },
      "outputs": [],
      "source": [
        "artifact.lineage_console_uri"
      ]
    },
    {
      "cell_type": "code",
      "execution_count": null,
      "id": "b7b0c2b7-5867-4933-a550-5602f60eccec",
      "metadata": {
        "id": "b7b0c2b7-5867-4933-a550-5602f60eccec"
      },
      "outputs": [],
      "source": []
    }
  ],
  "metadata": {
    "colab": {
      "provenance": []
    },
    "environment": {
      "kernel": "conda-base-py",
      "name": "workbench-notebooks.m128",
      "type": "gcloud",
      "uri": "us-docker.pkg.dev/deeplearning-platform-release/gcr.io/workbench-notebooks:m128"
    },
    "kernelspec": {
      "display_name": "Python 3 (ipykernel) (Local)",
      "language": "python",
      "name": "conda-base-py"
    },
    "language_info": {
      "codemirror_mode": {
        "name": "ipython",
        "version": 3
      },
      "file_extension": ".py",
      "mimetype": "text/x-python",
      "name": "python",
      "nbconvert_exporter": "python",
      "pygments_lexer": "ipython3",
      "version": "3.10.16"
    }
  },
  "nbformat": 4,
  "nbformat_minor": 5
}
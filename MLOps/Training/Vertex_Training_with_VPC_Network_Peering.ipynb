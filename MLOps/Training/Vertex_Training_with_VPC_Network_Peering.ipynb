{
  "cells": [
    {
      "cell_type": "code",
      "execution_count": null,
      "metadata": {
        "id": "ur8xi4C7S06n"
      },
      "outputs": [],
      "source": [
        "# Copyright 2025 Google LLC\n",
        "#\n",
        "# Licensed under the Apache License, Version 2.0 (the \"License\");\n",
        "# you may not use this file except in compliance with the License.\n",
        "# You may obtain a copy of the License at\n",
        "#\n",
        "#     https://www.apache.org/licenses/LICENSE-2.0\n",
        "#\n",
        "# Unless required by applicable law or agreed to in writing, software\n",
        "# distributed under the License is distributed on an \"AS IS\" BASIS,\n",
        "# WITHOUT WARRANTIES OR CONDITIONS OF ANY KIND, either express or implied.\n",
        "# See the License for the specific language governing permissions and\n",
        "# limitations under the License."
      ]
    },
    {
      "cell_type": "markdown",
      "metadata": {
        "id": "JAPoU8Sm5E6e"
      },
      "source": [
        "# Vertex AI Training with VPC Network Peering\n",
        "\n",
        "<table align=\"left\">\n",
        "  <td style=\"text-align: center\">\n",
        "    <a href=\"https://colab.research.google.com/github/jbrache/vertex-ai-things/blob/main/MLOps/Training/Vertex_Training_with_VPC_Network_Peering.ipynb\">\n",
        "      <img width=\"32px\" src=\"https://www.gstatic.com/pantheon/images/bigquery/welcome_page/colab-logo.svg\" alt=\"Google Colaboratory logo\"><br> Open in Colab\n",
        "    </a>\n",
        "  </td>\n",
        "  <td style=\"text-align: center\">\n",
        "    <a href=\"https://console.cloud.google.com/vertex-ai/colab/import/https:%2F%2Fraw.githubusercontent.com%2Fjbrache%2Fvertex-ai-things%2Fmain%2FMLOps%2FTraining%2FVertex_Training_with_VPC_Network_Peering.ipynb\">\n",
        "      <img width=\"32px\" src=\"https://lh3.googleusercontent.com/JmcxdQi-qOpctIvWKgPtrzZdJJK-J3sWE1RsfjZNwshCFgE_9fULcNpuXYTilIR2hjwN\" alt=\"Google Cloud Colab Enterprise logo\"><br> Open in Colab Enterprise\n",
        "    </a>\n",
        "  </td>\n",
        "  <td style=\"text-align: center\">\n",
        "    <a href=\"https://console.cloud.google.com/vertex-ai/workbench/deploy-notebook?download_url=https://raw.githubusercontent.com/jbrache/vertex-ai-things/blob/main/MLOps/Training/Vertex_Training_with_VPC_Network_Peering.ipynb\">\n",
        "      <img src=\"https://www.gstatic.com/images/branding/gcpiconscolors/vertexai/v1/32px.svg\" alt=\"Vertex AI logo\"><br> Open in Vertex AI Workbench\n",
        "    </a>\n",
        "  </td>\n",
        "  <td style=\"text-align: center\">\n",
        "    <a href=\"https://github.com/jbrache/vertex-ai-things/blob/main/MLOps/Training/Vertex_Training_with_VPC_Network_Peering.ipynb\">\n",
        "      <img width=\"32px\" src=\"https://www.svgrepo.com/download/217753/github.svg\" alt=\"GitHub logo\"><br> View on GitHub\n",
        "    </a>\n",
        "  </td>\n",
        "</table>"
      ]
    },
    {
      "cell_type": "markdown",
      "source": [
        "| Author(s) |\n",
        "| --- |\n",
        "| [Jose Brache](https://github.com/jbrache) |"
      ],
      "metadata": {
        "id": "ij0BamSrD45J"
      }
    },
    {
      "cell_type": "markdown",
      "metadata": {
        "id": "aed92deeb4a0"
      },
      "source": [
        "## Overview\n",
        "\n",
        "You can configure [Vertex AI to peer with Virtual Private Cloud](https://cloud.google.com/vertex-ai/docs/general/vpc-peering) (VPC) to connect directly with certain resources in Vertex AI.\n",
        "\n",
        "This guide shows how to set up VPC Network Peering in a VPC Host Project to peer your network with Vertex AI Training. This guide is recommended for networking administrators who are already familiar with Google Cloud networking concepts.\n",
        "\n",
        "Review the public docs for the latest information on support:\n",
        "- [Set up VPC Network Peering for certain Vertex AI resources](https://cloud.google.com/vertex-ai/docs/general/vpc-peering)\n",
        "- [Set up Connectivity from Vertex AI to Other Networks](https://cloud.google.com/vertex-ai/docs/general/hybrid-connectivity)\n",
        "\n",
        "This example covers the following steps:\n",
        "1. Setup projects as the **VPC Host Project (Project 'a')** and the **Vertex AI Project (Project 'b')**\n",
        "2. Create Test Training Code Container\n",
        "3. Build/Push Custom Docker Container using Cloud Build\n",
        "4. Setup VPC Peering in VPC Host Project for Vertex AI Training\n",
        "5. Prepare Training Job\n",
        "6. Submit Training Job with VPC Network Peering in **us-central1**\n",
        "7. Submit Training Job with VPC Network Peering in **us-west1**\n",
        "8. Clean Up"
      ]
    },
    {
      "cell_type": "markdown",
      "source": [
        "## Get started"
      ],
      "metadata": {
        "id": "aVUK0GRWL4kn"
      }
    },
    {
      "cell_type": "markdown",
      "source": [
        "### Install Vertex AI SDK and other required packages"
      ],
      "metadata": {
        "id": "M8LkGgxBe55P"
      }
    },
    {
      "cell_type": "code",
      "source": [
        "# import sys\n",
        "\n",
        "# if \"google.colab\" in sys.modules:\n",
        "#     !pip3 install --upgrade google-cloud-aiplatform\n",
        "\n",
        "#     # Restart the notebook kernel after installs.\n",
        "#     import IPython\n",
        "\n",
        "#     app = IPython.Application.instance()\n",
        "#     app.kernel.do_shutdown(True)"
      ],
      "metadata": {
        "id": "2tghR70frqiS"
      },
      "execution_count": null,
      "outputs": []
    },
    {
      "cell_type": "markdown",
      "source": [
        "---\n",
        "\n",
        "#### ⚠️ Do not forget to click the \"RESTART RUNTIME\" button above.\n",
        "\n",
        "---\n",
        "\n",
        "If you install additional packages, it's suggested to restart the notebook kernel so it can find the packages."
      ],
      "metadata": {
        "id": "SfZUIrKLtXBU"
      }
    },
    {
      "cell_type": "markdown",
      "source": [
        "### Authenticate your notebook environment (Colab only)\n",
        "\n",
        "If you're running this notebook on Google Colab, run the cell below to authenticate your environment."
      ],
      "metadata": {
        "id": "PMuTPovBfCuP"
      }
    },
    {
      "cell_type": "code",
      "source": [
        "import sys\n",
        "\n",
        "if \"google.colab\" in sys.modules:\n",
        "    from google.colab import auth\n",
        "\n",
        "    auth.authenticate_user()"
      ],
      "metadata": {
        "id": "TbAYymZP8VQJ"
      },
      "execution_count": null,
      "outputs": []
    },
    {
      "cell_type": "markdown",
      "source": [
        "# 0-0. Set Google Cloud project information\n",
        "\n",
        "To get started using Vertex AI, you must have an existing Google Cloud project and [enable the Vertex AI API](https://console.cloud.google.com/flows/enableapi?apiid=aiplatform.googleapis.com).\n",
        "\n",
        "Learn more about [setting up a project and a development environment](https://cloud.google.com/vertex-ai/docs/start/cloud-environment)."
      ],
      "metadata": {
        "id": "jOsEYp5GTN11"
      }
    },
    {
      "cell_type": "code",
      "execution_count": null,
      "metadata": {
        "id": "oM1iC_MfAts1"
      },
      "outputs": [],
      "source": [
        "############## Set Region for Shared Resources ###########################\n",
        "REGION = \"us-central1\"  # @param {type: \"string\"}\n",
        "\n",
        "############## Set VPC Host Project ###########################\n",
        "# Calling this Project 'a' where the VPC Host project exists\n",
        "PROJECT_ID_VPC_HOST = \"ds-dev-jb02-psci\"  # @param {type:\"string\"}\n",
        "VPC_NAME = \"vertex-vpc-prod\"\n",
        "\n",
        "# Region #1\n",
        "REGION_CENTRAL = \"us-central1\"  # @param {type: \"string\"}\n",
        "SUBNET_NAME_CENTRAL = f\"{REGION_CENTRAL}-vertex-peering\"\n",
        "\n",
        "# Region #2\n",
        "REGION_WEST = \"us-west1\"  # @param {type: \"string\"}\n",
        "SUBNET_NAME_WEST = f\"{REGION_WEST}-vertex-peering\"\n",
        "\n",
        "############## Set Vertex AI Project ###########################\n",
        "# Calling this Project 'b' where Vertex AI Training jobs run\n",
        "PROJECT_ID = \"ds-dev-jb02-psci\"  # @param {type:\"string\"}\n",
        "\n",
        "# Set the project id\n",
        "!gcloud config set project {PROJECT_ID}"
      ]
    },
    {
      "cell_type": "markdown",
      "source": [
        "## 0-1. Enable APIs\n",
        "The following APIs are enabled in this demo:\n",
        "1. [Enable the Vertex AI API](https://console.cloud.google.com/flows/enableapi?apiid=aiplatform.googleapis.com)\n",
        "2. [Enable the Cloud Build API](https://console.cloud.google.com/flows/enableapi?apiid=cloudbuild.googleapis.com)\n",
        "3. [Enable the Artifact Registry API](https://console.cloud.google.com/flows/enableapi?apiid=artifactregistry.googleapis.com): You must enable the Artifact Registry API for your project. You will store your custom training container in Artifact Registry. [Learn more about Enabling the Artifact Registry service](https://cloud.google.com/artifact-registry/docs/enable-service)\n",
        "4. [Enable the Service Networking API](https://console.cloud.google.com/flows/enableapi?apiid=servicenetworking.googleapis.com)\n"
      ],
      "metadata": {
        "id": "S8sLZAwlTYXR"
      }
    },
    {
      "cell_type": "code",
      "source": [
        "############# Enable the APIs for Vertex AI Project ########################\n",
        "!gcloud services enable aiplatform.googleapis.com artifactregistry.googleapis.com cloudbuild.googleapis.com servicenetworking.googleapis.com --project $PROJECT_ID"
      ],
      "metadata": {
        "id": "wAi6QffPHYx5"
      },
      "execution_count": null,
      "outputs": []
    },
    {
      "cell_type": "code",
      "source": [
        "############# Enable the APIs for VPC Host Project ########################\n",
        "!gcloud services enable compute.googleapis.com servicenetworking.googleapis.com --project $PROJECT_ID_VPC_HOST"
      ],
      "metadata": {
        "id": "j5vzbGARI122"
      },
      "execution_count": null,
      "outputs": []
    },
    {
      "cell_type": "markdown",
      "source": [
        "## 0-2. Import libraries"
      ],
      "metadata": {
        "id": "q10i4wJ3jlxV"
      }
    },
    {
      "cell_type": "code",
      "source": [
        "import json\n",
        "import logging\n",
        "import traceback\n",
        "import sys\n",
        "import os"
      ],
      "metadata": {
        "id": "jZoiZbwLsloC"
      },
      "execution_count": null,
      "outputs": []
    },
    {
      "cell_type": "markdown",
      "metadata": {
        "id": "init_aip:mbsdk,all"
      },
      "source": [
        "## 0-3. Training Code Container"
      ]
    },
    {
      "cell_type": "code",
      "execution_count": null,
      "metadata": {
        "id": "a9lEK0q5zBpX"
      },
      "outputs": [],
      "source": [
        "# Training code container def\n",
        "CONTAINER_DIR = \"test_container\""
      ]
    },
    {
      "cell_type": "markdown",
      "metadata": {
        "id": "hCjeCcvnuX8s"
      },
      "source": [
        "Verify the location where the training code exists"
      ]
    },
    {
      "cell_type": "code",
      "source": [
        "# Remove if there's any such folder already\n",
        "!rm -rf $CONTAINER_DIR\n",
        "# Create your app directory\n",
        "!mkdir -p $CONTAINER_DIR/trainer\n",
        "# Create a subdirectory for store the training scripts\n",
        "!touch $CONTAINER_DIR/trainer/train.py\n",
        "# Create the init file\n",
        "!touch $CONTAINER_DIR/trainer/__init__.py"
      ],
      "metadata": {
        "id": "RB711jiblKwo"
      },
      "execution_count": null,
      "outputs": []
    },
    {
      "cell_type": "code",
      "execution_count": null,
      "metadata": {
        "id": "-3XFPHR_zD9U"
      },
      "outputs": [],
      "source": [
        "# Print the location where the training code exists, will be used to create the artifact registry container\n",
        "print(f\"Local container directory with training code: {CONTAINER_DIR}\")\n",
        "print(\"Check whether the container directory exists:\", os.path.exists(CONTAINER_DIR))"
      ]
    },
    {
      "cell_type": "code",
      "source": [
        "%%writefile $CONTAINER_DIR/trainer/train.py\n",
        "import argparse\n",
        "import logging\n",
        "import sys\n",
        "import os\n",
        "import time\n",
        "import json\n",
        "\n",
        "def parse_args():\n",
        "  \"\"\"Parses command-line arguments.\"\"\"\n",
        "  \"\"\"Argument parser.\n",
        "\n",
        "  Returns:\n",
        "    Dictionary of arguments.\n",
        "  \"\"\"\n",
        "  parser = argparse.ArgumentParser()\n",
        "\n",
        "  parser.add_argument('--log-level', help='Logging level.', choices=['DEBUG', 'ERROR', 'FATAL', 'INFO', 'WARN'], default='INFO')\n",
        "  parser.add_argument('--sleep', help='Amount of time in seconds to sleep.', type=str, default='600s')\n",
        "  parsed, unknown = parser.parse_known_args()\n",
        "  return parsed, unknown\n",
        "\n",
        "if __name__ == '__main__':\n",
        "  \"\"\"Entry point\"\"\"\n",
        "  arguments, unknown_args = parse_args()\n",
        "  logging.basicConfig(level=arguments.log_level)\n",
        "\n",
        "  if arguments.sleep[-1] == \"s\":\n",
        "    sleep = int(arguments.sleep[:-1])\n",
        "  else:\n",
        "    sleep = int(arguments.sleep)\n",
        "\n",
        "  # Sleeping 600 seconds to connect the web shell\n",
        "  logging.info(f'Sleeping for {sleep} seconds...')\n",
        "  time.sleep(sleep)"
      ],
      "metadata": {
        "id": "zzdREP9KlVk5"
      },
      "execution_count": null,
      "outputs": []
    },
    {
      "cell_type": "code",
      "source": [
        "%%writefile $CONTAINER_DIR/requirements.txt"
      ],
      "metadata": {
        "id": "uPgYF3aNpCcB"
      },
      "execution_count": null,
      "outputs": []
    },
    {
      "cell_type": "code",
      "source": [
        "%%writefile $CONTAINER_DIR/pyproject.toml\n",
        "[tool.poetry]\n",
        "package-mode = false\n",
        "\n",
        "[tool.poetry.dependencies]\n",
        "python = \"==3.10.12\""
      ],
      "metadata": {
        "id": "HnEqShsuUoxT"
      },
      "execution_count": null,
      "outputs": []
    },
    {
      "cell_type": "code",
      "source": [
        "%%writefile $CONTAINER_DIR/Dockerfile\n",
        "# https://medium.com/@albertazzir/blazing-fast-python-docker-builds-with-poetry-a78a66f5aed0\n",
        "\n",
        "# Fetch the base image\n",
        "# https://hub.docker.com/r/amd64/python/\n",
        "# FROM amd64/python:3.10.12\n",
        "# The builder image, used to build the virtual environment\n",
        "FROM python:3.10.12-slim-bookworm\n",
        "\n",
        "# Install pipx\n",
        "RUN apt-get update && \\\n",
        "    apt-get install --no-install-suggests --no-install-recommends --yes pipx\n",
        "\n",
        "# Install network tools: ping, dig, nslookup\n",
        "RUN apt-get update && \\\n",
        "    apt-get install -y net-tools iputils-ping tcpdump dnsutils\n",
        "\n",
        "ENV PATH=\"/root/.local/bin:${PATH}\"\n",
        "RUN pipx install poetry\n",
        "RUN pipx inject poetry poetry-plugin-bundle\n",
        "\n",
        "ENV POETRY_NO_INTERACTION=1 \\\n",
        "    POETRY_VIRTUALENVS_IN_PROJECT=1 \\\n",
        "    POETRY_VIRTUALENVS_CREATE=1 \\\n",
        "    POETRY_CACHE_DIR=/tmp/poetry_cache\n",
        "\n",
        "# Set the working dir for the rest of the commands\n",
        "WORKDIR /\n",
        "\n",
        "# COPY requirements.txt .\n",
        "COPY pyproject.toml .\n",
        "# COPY poetry.lock .\n",
        "\n",
        "RUN poetry install --no-root && rm -rf $POETRY_CACHE_DIR\n",
        "\n",
        "ENV VIRTUAL_ENV=/.venv \\\n",
        "    PATH=\"/.venv/bin:$PATH\"\n",
        "\n",
        "# Copies the trainer code to the docker image.\n",
        "COPY trainer /trainer\n",
        "\n",
        "# Sets up the entry point to invoke the trainer.\n",
        "ENTRYPOINT [ \"poetry\", \"run\", \"python\", \"-m\", \"trainer.train\" ]"
      ],
      "metadata": {
        "id": "pQRdE718T56-"
      },
      "execution_count": null,
      "outputs": []
    },
    {
      "cell_type": "markdown",
      "source": [
        "# 1-0. Build and Push Custom Container to Artifact Registry\n",
        "\n",
        "You must have enabled the Artifact Registry API for your project in the previous steps. You will store your custom training container in Artifact Registry."
      ],
      "metadata": {
        "id": "6mVUy1rqcKkp"
      }
    },
    {
      "cell_type": "markdown",
      "metadata": {
        "id": "kKHSoEOIi6L4"
      },
      "source": [
        "## 1-1. Create a private Docker repository\n",
        "Your first step is to create a Docker repository in Artifact Registry.\n",
        "\n",
        "1 - Run the `gcloud artifacts repositories create` command to create a new Docker repository with your region with the description `Docker repository`.\n",
        "\n",
        "2 - Run the `gcloud artifacts repositories list` command to verify that your repository was created."
      ]
    },
    {
      "cell_type": "code",
      "execution_count": null,
      "metadata": {
        "id": "SzoZDGHTzFlO"
      },
      "outputs": [],
      "source": [
        "# Repo to create / use for running training job\n",
        "PRIVATE_REPO = \"test-training\"\n",
        "TRAIN_IMAGE = (\n",
        "    f\"{REGION}-docker.pkg.dev/{PROJECT_ID}/{PRIVATE_REPO}/test:latest\"\n",
        ")\n",
        "print(\"Private Repo:\", PRIVATE_REPO)\n",
        "print(\"Training Container Image:\", TRAIN_IMAGE)"
      ]
    },
    {
      "cell_type": "code",
      "execution_count": null,
      "metadata": {
        "id": "ApZqSMcbi-2c"
      },
      "outputs": [],
      "source": [
        "!gcloud artifacts repositories create {PRIVATE_REPO} --repository-format=docker --project={PROJECT_ID} --location={REGION} --description=\"Docker repository\""
      ]
    },
    {
      "cell_type": "code",
      "execution_count": null,
      "metadata": {
        "id": "a8DQGNFMjDXf"
      },
      "outputs": [],
      "source": [
        "!gcloud artifacts repositories --project={PROJECT_ID} list"
      ]
    },
    {
      "cell_type": "markdown",
      "metadata": {
        "id": "K4eC5YUejG4q"
      },
      "source": [
        "## 1-2. Build and push the custom docker container image by using Cloud Build\n",
        "\n",
        "Build and push a Docker image with Cloud Build"
      ]
    },
    {
      "cell_type": "code",
      "execution_count": null,
      "metadata": {
        "id": "f9u3wTzKjNBC"
      },
      "outputs": [],
      "source": [
        "!cd $CONTAINER_DIR && gcloud builds submit --timeout=1800s --project={PROJECT_ID} --region={REGION} --tag {TRAIN_IMAGE}"
      ]
    },
    {
      "cell_type": "markdown",
      "source": [
        "# 2-0. Set up private services access for your VPC\n",
        "\n",
        "Following this guide for [creating the peering range](https://cloud.google.com/vertex-ai/docs/general/vpc-peering)"
      ],
      "metadata": {
        "id": "FpT8ae9a-mMe"
      }
    },
    {
      "cell_type": "code",
      "source": [
        "PROJECT_NUMBER_VPC_HOST=!(gcloud projects describe $PROJECT_ID_VPC_HOST --format=\"value(projectNumber)\")\n",
        "PROJECT_NUMBER_VPC_HOST = PROJECT_NUMBER_VPC_HOST[0]"
      ],
      "metadata": {
        "id": "nYUVceYtTVBm"
      },
      "execution_count": null,
      "outputs": []
    },
    {
      "cell_type": "code",
      "source": [
        "print(PROJECT_NUMBER_VPC_HOST)\n",
        "print(f\"projects/{PROJECT_NUMBER_VPC_HOST}/global/networks/{VPC_NAME}\")"
      ],
      "metadata": {
        "id": "xxNB5l48T-jv"
      },
      "execution_count": null,
      "outputs": []
    },
    {
      "cell_type": "markdown",
      "source": [
        "## 2-1. Create VPC Network"
      ],
      "metadata": {
        "id": "X5m_E-i7e67_"
      }
    },
    {
      "cell_type": "code",
      "source": [
        "!gcloud compute networks create {VPC_NAME} \\\n",
        "    --project={PROJECT_ID_VPC_HOST} \\\n",
        "    --subnet-mode custom"
      ],
      "metadata": {
        "id": "Qe2s1sIkD5Uw"
      },
      "execution_count": null,
      "outputs": []
    },
    {
      "cell_type": "markdown",
      "source": [
        "## 2-2. Create VPC Subnet"
      ],
      "metadata": {
        "id": "e30V9DP2fCSk"
      }
    },
    {
      "cell_type": "code",
      "source": [
        "!gcloud compute networks subnets create {SUBNET_NAME_CENTRAL} \\\n",
        "    --network {VPC_NAME} \\\n",
        "    --range 192.167.0.0/19 \\\n",
        "    --enable-private-ip-google-access \\\n",
        "    --region={REGION_CENTRAL} \\\n",
        "    --project={PROJECT_ID_VPC_HOST}"
      ],
      "metadata": {
        "id": "SBXNfDC8GdHU"
      },
      "execution_count": null,
      "outputs": []
    },
    {
      "cell_type": "code",
      "source": [
        "# Unused\n",
        "# !gcloud compute networks subnets create {SUBNET_NAME_WEST} \\\n",
        "#     --network {VPC_NAME} \\\n",
        "#     --range 192.167.0.0/19 \\\n",
        "#     --enable-private-ip-google-access \\\n",
        "#     --region={REGION_WEST} \\\n",
        "#     --project={PROJECT_ID_VPC_HOST}"
      ],
      "metadata": {
        "id": "Fnfx-r-toEe6"
      },
      "execution_count": null,
      "outputs": []
    },
    {
      "cell_type": "code",
      "source": [
        "!gcloud compute networks subnets list --project={PROJECT_ID_VPC_HOST}"
      ],
      "metadata": {
        "id": "Bq8r1mfKhR6J"
      },
      "execution_count": null,
      "outputs": []
    },
    {
      "cell_type": "markdown",
      "source": [
        "## 2-3. Create Peering Range"
      ],
      "metadata": {
        "id": "d_aBCenVfQzh"
      }
    },
    {
      "cell_type": "code",
      "source": [
        "NETWORK_NAME = f\"projects/{PROJECT_NUMBER_VPC_HOST}/global/networks/{VPC_NAME}\"\n",
        "print(NETWORK_NAME)"
      ],
      "metadata": {
        "id": "uS9xHNrRUdoP"
      },
      "execution_count": null,
      "outputs": []
    },
    {
      "cell_type": "code",
      "source": [
        "# This is for display only; you can name the range anything.\n",
        "PEERING_RANGE_NAME=\"google-reserved-range\"\n",
        "\n",
        "# NOTE: `prefix-length=16` means a CIDR block with mask /16 will be\n",
        "# reserved for use by Google services, such as Vertex AI.\n",
        "# /24, /19 did not work for Vertex AI Training\n",
        "!gcloud compute addresses create {PEERING_RANGE_NAME} \\\n",
        "  --global \\\n",
        "  --prefix-length=16 \\\n",
        "  --description=\"peering range for Google service\" \\\n",
        "  --network={NETWORK_NAME} \\\n",
        "  --purpose=VPC_PEERING \\\n",
        "  --project={PROJECT_ID_VPC_HOST}"
      ],
      "metadata": {
        "id": "fKjtSThQj8ul"
      },
      "execution_count": null,
      "outputs": []
    },
    {
      "cell_type": "code",
      "source": [
        "# Create the VPC connection.\n",
        "!gcloud services vpc-peerings connect \\\n",
        "  --service=servicenetworking.googleapis.com \\\n",
        "  --network={VPC_NAME} \\\n",
        "  --ranges={PEERING_RANGE_NAME} \\\n",
        "  --project={PROJECT_ID_VPC_HOST}"
      ],
      "metadata": {
        "id": "GWbWDkibGYh3"
      },
      "execution_count": null,
      "outputs": []
    },
    {
      "cell_type": "code",
      "source": [
        "!gcloud compute networks peerings list --network {VPC_NAME} --project {PROJECT_ID_VPC_HOST}"
      ],
      "metadata": {
        "id": "tG5WzBZzjrTQ"
      },
      "execution_count": null,
      "outputs": []
    },
    {
      "cell_type": "markdown",
      "source": [
        "## 2-4. Export Custom Routs [Optional]\n",
        "\n",
        "If you use [custom routes](https://cloud.google.com/vertex-ai/docs/general/vpc-peering#export-custom-routes), you need to export them so that Vertex AI can import them. If you don't use custom routes, skip this section."
      ],
      "metadata": {
        "id": "TLBzguGnwW60"
      }
    },
    {
      "cell_type": "code",
      "source": [
        "# !gcloud compute networks peerings update {PEERING_RANGE_NAME} \\\n",
        "#     --network={NETWORK_NAME} \\\n",
        "#     --export-custom-routes \\\n",
        "#     --project={PROJECT_ID}"
      ],
      "metadata": {
        "id": "G9ewxEicwoKf"
      },
      "execution_count": null,
      "outputs": []
    },
    {
      "cell_type": "markdown",
      "source": [
        "## 2-4. Set up Shared VPC [Optional]\n",
        "\n",
        "This section is not covered in this tutorial, to set up the Shared VPC follow [this](https://cloud.google.com/vpc/docs/provisioning-shared-vpc#set-up-shared-vpc) guide.\n",
        "\n",
        "If you use [Shared VPC](https://cloud.google.com/vpc/docs/shared-vpc), you usually use Vertex AI in a separate Google Cloud project than your VPC host project. Learn how to [provision Shared VPC](https://cloud.google.com/vpc/docs/provisioning-shared-vpc)."
      ],
      "metadata": {
        "id": "XrsvTnn1FgL_"
      }
    },
    {
      "cell_type": "markdown",
      "metadata": {
        "id": "GlNDREt4hx3W"
      },
      "source": [
        "# 3-0. Run custom training jobs on the Peered VPC"
      ]
    },
    {
      "cell_type": "markdown",
      "metadata": {
        "id": "Xw4edKzOjWx8"
      },
      "source": [
        "## 3-1. Prepare training jobs\n",
        "\n",
        "Vertex AI Training supports submiting custom training jobs with a prebuilt container, custom container and python application via **HTTP request, Vertex AI SDK or gcloud CLI**. Learn more [here](https://cloud.google.com/vertex-ai/docs/training/code-requirements).\n",
        "\n",
        "In this example, we will demonstrate how to run a custom job with with custom containers. Please specify the images below to your custom images.\n",
        "Note, if it's not a public image, please ensure it's already pushed to your project.\n",
        "\n",
        "https://cloud.google.com/vertex-ai/docs/training/containers-overview"
      ]
    },
    {
      "cell_type": "code",
      "source": [
        "# Repo to create / use for running training job\n",
        "PRIVATE_REPO = \"test-training\"\n",
        "TRAIN_IMAGE = (\n",
        "    f\"{REGION}-docker.pkg.dev/{PROJECT_ID}/{PRIVATE_REPO}/test:latest\"\n",
        ")\n",
        "print(\"Private Repo:\", PRIVATE_REPO)\n",
        "print(\"Training Container Image:\", TRAIN_IMAGE)"
      ],
      "metadata": {
        "id": "2f42NgbabJ_3"
      },
      "execution_count": null,
      "outputs": []
    },
    {
      "cell_type": "code",
      "source": [
        "PROJECT_NUMBER=!(gcloud projects describe $PROJECT_ID --format=\"value(projectNumber)\")\n",
        "PROJECT_NUMBER = PROJECT_NUMBER[0]"
      ],
      "metadata": {
        "id": "FhwtTv6zcyIn"
      },
      "execution_count": null,
      "outputs": []
    },
    {
      "cell_type": "code",
      "source": [
        "PROJECT_NUMBER_VPC_HOST=!(gcloud projects describe $PROJECT_ID_VPC_HOST --format=\"value(projectNumber)\")\n",
        "PROJECT_NUMBER_VPC_HOST = PROJECT_NUMBER_VPC_HOST[0]"
      ],
      "metadata": {
        "id": "qLe8CGvHsrOq"
      },
      "execution_count": null,
      "outputs": []
    },
    {
      "cell_type": "code",
      "source": [
        "NETWORK_NAME = f\"projects/{PROJECT_NUMBER_VPC_HOST}/global/networks/{VPC_NAME}\"\n",
        "print(NETWORK_NAME)"
      ],
      "metadata": {
        "id": "Pde4qItFrVW7"
      },
      "execution_count": null,
      "outputs": []
    },
    {
      "cell_type": "code",
      "execution_count": null,
      "metadata": {
        "id": "5SfzF67Fjm8Q"
      },
      "outputs": [],
      "source": [
        "# Prepare training images\n",
        "CPU_IMAGE = TRAIN_IMAGE\n",
        "print(\"Using image: \", CPU_IMAGE)\n",
        "print(\"Network Name: \", NETWORK_NAME)"
      ]
    },
    {
      "cell_type": "markdown",
      "source": [
        "## 3-2. Training Job Config"
      ],
      "metadata": {
        "id": "0cLEPipLrSNG"
      }
    },
    {
      "cell_type": "code",
      "source": [
        "CPU_MACHINE_TYPE = \"n2-standard-4\"  # @param {type:\"string\"}\n",
        "TRAINING_SA = f\"{PROJECT_NUMBER}-compute@developer.gserviceaccount.com\""
      ],
      "metadata": {
        "id": "OMG8KbGnmm4C"
      },
      "execution_count": null,
      "outputs": []
    },
    {
      "cell_type": "code",
      "execution_count": null,
      "metadata": {
        "id": "5D6f-VFbjnkZ"
      },
      "outputs": [],
      "source": [
        "# ----------- Set WorkerPool Spec -----------#\n",
        "# https://cloud.google.com/sdk/gcloud/reference/beta/ai/custom-jobs/create\n",
        "CONTENT = f\"\"\"\n",
        "workerPoolSpecs:\n",
        "  - machineSpec:\n",
        "      machineType: {CPU_MACHINE_TYPE}\n",
        "    replicaCount: 1\n",
        "    containerSpec:\n",
        "      imageUri: {CPU_IMAGE}\n",
        "      args:\n",
        "        --sleep=3600s\n",
        "serviceAccount: {TRAINING_SA}\n",
        "network: {NETWORK_NAME}\n",
        "\"\"\""
      ]
    },
    {
      "cell_type": "code",
      "execution_count": null,
      "metadata": {
        "id": "Xu8M0olIjrH-"
      },
      "outputs": [],
      "source": [
        "f = open(\"custom_job_spec.yaml\", \"w\")\n",
        "f.write(CONTENT[1:])\n",
        "f.close()\n",
        "\n",
        "!cat custom_job_spec.yaml"
      ]
    },
    {
      "cell_type": "markdown",
      "metadata": {
        "id": "nKUejYmqjuKs"
      },
      "source": [
        "## 3-3. Create CPU test job on Vertex AI Training - us-central1"
      ]
    },
    {
      "cell_type": "code",
      "execution_count": null,
      "metadata": {
        "id": "IY6qtqyhjx__"
      },
      "outputs": [],
      "source": [
        "#----------- Create CPU Test Job -----------#\n",
        "!gcloud beta ai custom-jobs create \\\n",
        "    --project={PROJECT_ID} \\\n",
        "    --region={REGION_CENTRAL} \\\n",
        "    --display-name=\"CPU Test Job Peering\" \\\n",
        "    --config=custom_job_spec.yaml \\\n",
        "    --enable-web-access \\\n",
        "    --labels network_type=vpc_peering"
      ]
    },
    {
      "cell_type": "markdown",
      "metadata": {
        "id": "i6UYin4agIx6"
      },
      "source": [
        "## 3-4. Create CPU test job on Vertex AI Training - us-west1"
      ]
    },
    {
      "cell_type": "code",
      "execution_count": null,
      "metadata": {
        "id": "BTGea4S8gIx7"
      },
      "outputs": [],
      "source": [
        "#----------- Create CPU Test Job -----------#\n",
        "!gcloud beta ai custom-jobs create \\\n",
        "    --project={PROJECT_ID} \\\n",
        "    --region={REGION_WEST} \\\n",
        "    --display-name=\"CPU Test Job Peering\" \\\n",
        "    --config=custom_job_spec.yaml \\\n",
        "    --enable-web-access \\\n",
        "    --labels network_type=vpc_peering"
      ]
    },
    {
      "cell_type": "markdown",
      "source": [
        "## 3-5. Monitor and debug training with an interactive shell\n",
        "\n",
        "The jobs in this project have [enabled interactive shells](https://cloud.google.com/vertex-ai/docs/training/monitor-debug-interactive-shell) for the custom training resource. The interactive shell allows you to inspect the container where your training code is running.\n",
        "\n",
        "You can navitage to the interactive shell with [these](https://cloud.google.com/vertex-ai/docs/training/monitor-debug-interactive-shell#navigate-console) instructions."
      ],
      "metadata": {
        "id": "R6sCvRkPX0gf"
      }
    },
    {
      "cell_type": "markdown",
      "metadata": {
        "id": "nOyxqfCjj3Vf"
      },
      "source": [
        "# 4-0. Get Job Details"
      ]
    },
    {
      "cell_type": "code",
      "execution_count": null,
      "metadata": {
        "id": "uQsQHP6sj5VT"
      },
      "outputs": [],
      "source": [
        "# Option 1: Use the Custom Job ID to get details\n",
        "# JOB_ID = \"\" # @param {type:\"string\"}\n",
        "# !gcloud beta ai custom-jobs describe {JOB_ID} --project={PROJECT_ID} --region={REGION}"
      ]
    },
    {
      "cell_type": "code",
      "execution_count": null,
      "metadata": {
        "id": "CMxAZU94j-FE"
      },
      "outputs": [],
      "source": [
        "# Option 2: List existing custom jobs, filter running jobs and ones with the set label\n",
        "# Lists the existing custom jobs, filters with the label set for these jobs\n",
        "FILTER = '\"(state!=\"JOB_STATE_SUCCEEDED\" AND state!=\"JOB_STATE_FAILED\" AND state!=\"JOB_STATE_CANCELLED\") AND labels.network_type=vpc_peering\"'\n",
        "!gcloud beta ai custom-jobs list --project={PROJECT_ID} --region={REGION_CENTRAL} --filter={FILTER}"
      ]
    },
    {
      "cell_type": "code",
      "source": [
        "!gcloud beta ai custom-jobs list --project={PROJECT_ID} --region={REGION_WEST} --filter={FILTER}"
      ],
      "metadata": {
        "id": "BXZRQrrUz0_i"
      },
      "execution_count": null,
      "outputs": []
    },
    {
      "cell_type": "markdown",
      "metadata": {
        "id": "TpV-iwP9qw9c"
      },
      "source": [
        "# 5-0. Cleaning up\n",
        "\n",
        "To clean up all Google Cloud resources used in this project, you can [delete the Google Cloud\n",
        "project](https://cloud.google.com/resource-manager/docs/creating-managing-projects#shutting_down_projects) you used for the tutorial.\n",
        "\n",
        "Otherwise, you can delete the individual resources you created in this tutorial:\n",
        "\n",
        "- Artifacts Repository\n",
        "- VPC Network"
      ]
    },
    {
      "cell_type": "code",
      "execution_count": null,
      "metadata": {
        "id": "sx_vKniMq9ZX"
      },
      "outputs": [],
      "source": [
        "# Set this to true only if you'd like to delete your bucket\n",
        "# delete_bucket = False\n",
        "delete_artifacts_repo = False\n",
        "\n",
        "# No bucket used in this example\n",
        "# if delete_bucket:\n",
        "#   !gsutil rm -rf $JOB_DIR\n",
        "#   !gsutil rm -r $BUCKET_URI\n",
        "\n",
        "if delete_artifacts_repo:\n",
        "  !gcloud artifacts repositories delete {PRIVATE_REPO} --project={PROJECT_ID} --location={REGION} --quiet"
      ]
    }
  ],
  "metadata": {
    "colab": {
      "provenance": [],
      "toc_visible": true
    },
    "kernelspec": {
      "display_name": "Python 3",
      "name": "python3"
    }
  },
  "nbformat": 4,
  "nbformat_minor": 0
}
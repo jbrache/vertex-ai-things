{
  "cells": [
    {
      "cell_type": "code",
      "execution_count": null,
      "metadata": {
        "id": "ur8xi4C7S06n"
      },
      "outputs": [],
      "source": [
        "# Copyright 2025 Google LLC\n",
        "#\n",
        "# Licensed under the Apache License, Version 2.0 (the \"License\");\n",
        "# you may not use this file except in compliance with the License.\n",
        "# You may obtain a copy of the License at\n",
        "#\n",
        "#     https://www.apache.org/licenses/LICENSE-2.0\n",
        "#\n",
        "# Unless required by applicable law or agreed to in writing, software\n",
        "# distributed under the License is distributed on an \"AS IS\" BASIS,\n",
        "# WITHOUT WARRANTIES OR CONDITIONS OF ANY KIND, either express or implied.\n",
        "# See the License for the specific language governing permissions and\n",
        "# limitations under the License."
      ]
    },
    {
      "cell_type": "markdown",
      "metadata": {
        "id": "JAPoU8Sm5E6e"
      },
      "source": [
        "# Vertex AI Training using Private Service Connect interface\n",
        "\n",
        "<table align=\"left\">\n",
        "  <td style=\"text-align: center\">\n",
        "    <a href=\"https://colab.research.google.com/github/jbrache/vertex-ai-things/blob/main/MLOps/Training/Vertex_Training_PSC_I.ipynb\">\n",
        "      <img width=\"32px\" src=\"https://www.gstatic.com/pantheon/images/bigquery/welcome_page/colab-logo.svg\" alt=\"Google Colaboratory logo\"><br> Open in Colab\n",
        "    </a>\n",
        "  </td>\n",
        "  <td style=\"text-align: center\">\n",
        "    <a href=\"https://console.cloud.google.com/vertex-ai/colab/import/https:%2F%2Fraw.githubusercontent.com%2Fjbrache%2Fvertex-ai-things%2Fmain%2FMLOps%2FTraining%2FVertex_Training_PSC_I.ipynb\">\n",
        "      <img width=\"32px\" src=\"https://lh3.googleusercontent.com/JmcxdQi-qOpctIvWKgPtrzZdJJK-J3sWE1RsfjZNwshCFgE_9fULcNpuXYTilIR2hjwN\" alt=\"Google Cloud Colab Enterprise logo\"><br> Open in Colab Enterprise\n",
        "    </a>\n",
        "  </td>\n",
        "  <td style=\"text-align: center\">\n",
        "    <a href=\"https://console.cloud.google.com/vertex-ai/workbench/deploy-notebook?download_url=https://raw.githubusercontent.com/jbrache/vertex-ai-things/blob/main/MLOps/Training/Vertex_Training_PSC_I.ipynb\">\n",
        "      <img src=\"https://www.gstatic.com/images/branding/gcpiconscolors/vertexai/v1/32px.svg\" alt=\"Vertex AI logo\"><br> Open in Vertex AI Workbench\n",
        "    </a>\n",
        "  </td>\n",
        "  <td style=\"text-align: center\">\n",
        "    <a href=\"https://github.com/jbrache/vertex-ai-things/blob/main/MLOps/Training/Vertex_Training_PSC_I.ipynb\">\n",
        "      <img width=\"32px\" src=\"https://www.svgrepo.com/download/217753/github.svg\" alt=\"GitHub logo\"><br> View on GitHub\n",
        "    </a>\n",
        "  </td>\n",
        "</table>"
      ]
    },
    {
      "cell_type": "markdown",
      "source": [
        "| Author(s) |\n",
        "| --- |\n",
        "| [Jose Brache](https://github.com/jbrache) |"
      ],
      "metadata": {
        "id": "gu4do1bcet6m"
      }
    },
    {
      "cell_type": "markdown",
      "metadata": {
        "id": "aed92deeb4a0"
      },
      "source": [
        "## Overview\n",
        "\n",
        "Private Service Connect interface is recommended for private connectivity since it reduces the chance of IP exhaustion and allows for transitive peering. See [Set up a Private Service Connect interface](https://cloud.google.com/vertex-ai/docs/general/vpc-psc-i-setup) on how to configure it for Vertex AI.\n",
        "\n",
        "Review the public docs for the latest information on support: [Schedule training jobs based on resource availability](https://cloud.google.com/vertex-ai/docs/training/psc-i-egress)\n",
        "\n",
        "This example covers the following steps:\n",
        "1. Setup multiple projects: Project 'a' (VPC Host Project), and Project 'b' (Vertex AI Project)\n",
        "2. Create Test Training Code Container\n",
        "3. Build/Push Custom Docker Container using Cloud Build\n",
        "4. Setup PSC-I in VPC Host Project for Vertex AI Training\n",
        "5. Prepare Training Job\n",
        "6. Submit Training Job with PSC-I\n",
        "7. Clean Up"
      ]
    },
    {
      "cell_type": "markdown",
      "source": [
        "## Get started"
      ],
      "metadata": {
        "id": "aVUK0GRWL4kn"
      }
    },
    {
      "cell_type": "markdown",
      "source": [
        "### Install Vertex AI SDK and other required packages"
      ],
      "metadata": {
        "id": "M8LkGgxBe55P"
      }
    },
    {
      "cell_type": "code",
      "source": [
        "# import sys\n",
        "\n",
        "# if \"google.colab\" in sys.modules:\n",
        "#     !pip3 install --upgrade google-cloud-aiplatform\n",
        "\n",
        "#     # Restart the notebook kernel after installs.\n",
        "#     import IPython\n",
        "\n",
        "#     app = IPython.Application.instance()\n",
        "#     app.kernel.do_shutdown(True)"
      ],
      "metadata": {
        "id": "2tghR70frqiS"
      },
      "execution_count": null,
      "outputs": []
    },
    {
      "cell_type": "markdown",
      "source": [
        "---\n",
        "\n",
        "#### ⚠️ Do not forget to click the \"RESTART RUNTIME\" button above.\n",
        "\n",
        "---\n",
        "\n",
        "If you install additional packages, it's suggested to restart the notebook kernel so it can find the packages."
      ],
      "metadata": {
        "id": "SfZUIrKLtXBU"
      }
    },
    {
      "cell_type": "markdown",
      "source": [
        "### Authenticate your notebook environment (Colab only)\n",
        "\n",
        "If you're running this notebook on Google Colab, run the cell below to authenticate your environment."
      ],
      "metadata": {
        "id": "PMuTPovBfCuP"
      }
    },
    {
      "cell_type": "code",
      "source": [
        "import sys\n",
        "\n",
        "if \"google.colab\" in sys.modules:\n",
        "    from google.colab import auth\n",
        "\n",
        "    auth.authenticate_user()"
      ],
      "metadata": {
        "id": "TbAYymZP8VQJ"
      },
      "execution_count": null,
      "outputs": []
    },
    {
      "cell_type": "markdown",
      "source": [
        "# 0-0. Set Google Cloud project information\n",
        "\n",
        "To get started using Vertex AI, you must have an existing Google Cloud project and [enable the Vertex AI API](https://console.cloud.google.com/flows/enableapi?apiid=aiplatform.googleapis.com).\n",
        "\n",
        "Learn more about [setting up a project and a development environment](https://cloud.google.com/vertex-ai/docs/start/cloud-environment)."
      ],
      "metadata": {
        "id": "Bte0-njbsj1e"
      }
    },
    {
      "cell_type": "code",
      "execution_count": null,
      "metadata": {
        "id": "oM1iC_MfAts1"
      },
      "outputs": [],
      "source": [
        "############## Set Project ###########################\n",
        "REGION = \"us-central1\"  # @param {type: \"string\"}\n",
        "\n",
        "# Calling this Project 'a' where the VPC Host project exists\n",
        "PROJECT_ID_VPC_HOST = \"vpc-host-jb01\"  # @param {type:\"string\"}\n",
        "VPC_NAME = \"vertex-vpc-prod\"\n",
        "SUBNET_NAME = f\"{REGION}-vertex\"\n",
        "NETWORK_ATTACHMENT_NAME = f\"vertex-attachment-{REGION}\"\n",
        "\n",
        "# Calling this Project 'b' where Vertex AI Training jobs run\n",
        "PROJECT_ID = \"ds-dev-jb01\"  # @param {type:\"string\"}\n",
        "\n",
        "BUCKET_URI = f\"gs://{PROJECT_ID}-artifacts\"\n",
        "\n",
        "############ Setting the Enviroment ###########\n",
        "SERVICE =\"aiplatform.googleapis.com\"\n",
        "ENDPOINT=\"us-central1-aiplatform.googleapis.com\"\n",
        "\n",
        "# Set the project id\n",
        "!gcloud config set project {PROJECT_ID}"
      ]
    },
    {
      "cell_type": "markdown",
      "source": [
        "## 0-1. Enable APIs\n",
        "The following APIs are enabled in this demo:\n",
        "1. [Enable the Vertex AI API](https://console.cloud.google.com/flows/enableapi?apiid=aiplatform.googleapis.com)\n",
        "2. [Enable the Cloud Build API](https://console.cloud.google.com/flows/enableapi?apiid=cloudbuild.googleapis.com)\n",
        "3. [Enable the Artifact Registry API](https://console.cloud.google.com/flows/enableapi?apiid=artifactregistry.googleapis.com): You must enable the Artifact Registry API for your project. You will store your custom training container in Artifact Registry. [Learn more about Enabling the Artifact Registry service](https://cloud.google.com/artifact-registry/docs/enable-service)\n",
        "4. [Enable the Service Networking API](https://console.cloud.google.com/flows/enableapi?apiid=servicenetworking.googleapis.com)\n"
      ],
      "metadata": {
        "id": "mW6HcE3T6a5m"
      }
    },
    {
      "cell_type": "code",
      "source": [
        "############# Enable the APIs for Vertex AI Project ########################\n",
        "!gcloud services enable --project=$PROJECT_ID aiplatform.googleapis.com artifactregistry.googleapis.com cloudbuild.googleapis.com --project $PROJECT_ID"
      ],
      "metadata": {
        "id": "wAi6QffPHYx5"
      },
      "execution_count": null,
      "outputs": []
    },
    {
      "cell_type": "code",
      "source": [
        "############# Enable the APIs for VPC Host Project ########################\n",
        "!gcloud services enable --project=$PROJECT_ID_VPC_HOST aiplatform.googleapis.com compute.googleapis.com servicenetworking.googleapis.com --project $PROJECT_ID_VPC_HOST"
      ],
      "metadata": {
        "id": "ty73GrEEfzTq"
      },
      "execution_count": null,
      "outputs": []
    },
    {
      "cell_type": "markdown",
      "metadata": {
        "id": "960505627ddf"
      },
      "source": [
        "## 0-2. Import libraries"
      ]
    },
    {
      "cell_type": "code",
      "execution_count": null,
      "metadata": {
        "id": "PyQmSRbKA8r-"
      },
      "outputs": [],
      "source": [
        "import os\n",
        "import sys\n",
        "import requests\n",
        "import json"
      ]
    },
    {
      "cell_type": "markdown",
      "metadata": {
        "id": "zgPO1eR3CYjk"
      },
      "source": [
        "## 0-3. Create a Cloud Storage bucket\n",
        "\n",
        "Create a storage bucket to store intermediate artifacts such as datasets."
      ]
    },
    {
      "cell_type": "markdown",
      "metadata": {
        "id": "-EcIXiGsCePi"
      },
      "source": [
        "**Only if your bucket doesn't already exist**: Run the following cell to create your Cloud Storage bucket."
      ]
    },
    {
      "cell_type": "code",
      "execution_count": null,
      "metadata": {
        "id": "NIq7R4HZCfIc"
      },
      "outputs": [],
      "source": [
        "create_bucket = False\n",
        "if create_bucket:\n",
        "    !gsutil mb -l {REGION} -p {PROJECT_ID} {BUCKET_URI}"
      ]
    },
    {
      "cell_type": "markdown",
      "metadata": {
        "id": "init_aip:mbsdk,all"
      },
      "source": [
        "## 0-3. Training Code Container"
      ]
    },
    {
      "cell_type": "code",
      "execution_count": null,
      "metadata": {
        "id": "a9lEK0q5zBpX"
      },
      "outputs": [],
      "source": [
        "# Training code container def\n",
        "CONTAINER_DIR = \"test_container\""
      ]
    },
    {
      "cell_type": "markdown",
      "metadata": {
        "id": "hCjeCcvnuX8s"
      },
      "source": [
        "Verify the location where the training code exists"
      ]
    },
    {
      "cell_type": "code",
      "source": [
        "# Remove if there's any such folder already\n",
        "!rm -rf $CONTAINER_DIR\n",
        "# Create your app directory\n",
        "!mkdir -p $CONTAINER_DIR/trainer\n",
        "# Create a subdirectory for store the training scripts\n",
        "!touch $CONTAINER_DIR/trainer/train.py\n",
        "# Create the init file\n",
        "!touch $CONTAINER_DIR/trainer/__init__.py"
      ],
      "metadata": {
        "id": "RB711jiblKwo"
      },
      "execution_count": null,
      "outputs": []
    },
    {
      "cell_type": "code",
      "execution_count": null,
      "metadata": {
        "id": "-3XFPHR_zD9U"
      },
      "outputs": [],
      "source": [
        "# Print the location where the training code exists, will be used to create the artifact registry container\n",
        "print(f\"Local container directory with training code: {CONTAINER_DIR}\")\n",
        "print(\"Check whether the container directory exists:\", os.path.exists(CONTAINER_DIR))"
      ]
    },
    {
      "cell_type": "code",
      "source": [
        "%%writefile $CONTAINER_DIR/trainer/train.py\n",
        "import argparse\n",
        "import logging\n",
        "import sys\n",
        "import os\n",
        "import time\n",
        "import json\n",
        "\n",
        "def parse_args():\n",
        "  \"\"\"Parses command-line arguments.\"\"\"\n",
        "  \"\"\"Argument parser.\n",
        "\n",
        "  Returns:\n",
        "    Dictionary of arguments.\n",
        "  \"\"\"\n",
        "  parser = argparse.ArgumentParser()\n",
        "\n",
        "  parser.add_argument('--log-level', help='Logging level.', choices=['DEBUG', 'ERROR', 'FATAL', 'INFO', 'WARN'], default='INFO')\n",
        "  parser.add_argument('--sleep', help='Logging level.', type=str, default='600s')\n",
        "  parsed, unknown = parser.parse_known_args()\n",
        "  return parsed, unknown\n",
        "\n",
        "if __name__ == '__main__':\n",
        "  \"\"\"Entry point\"\"\"\n",
        "  arguments, unknown_args = parse_args()\n",
        "  logging.basicConfig(level=arguments.log_level)\n",
        "\n",
        "  if arguments.sleep[-1] == \"s\":\n",
        "    sleep = int(arguments.sleep[:-1])\n",
        "  else:\n",
        "    sleep = int(arguments.sleep)\n",
        "\n",
        "  # Sleeping 600 seconds to connect the web shell\n",
        "  logging.info(f'Sleeping for {sleep} seconds...')\n",
        "  time.sleep(sleep)"
      ],
      "metadata": {
        "id": "zzdREP9KlVk5"
      },
      "execution_count": null,
      "outputs": []
    },
    {
      "cell_type": "code",
      "source": [
        "%%writefile $CONTAINER_DIR/requirements.txt"
      ],
      "metadata": {
        "id": "uPgYF3aNpCcB"
      },
      "execution_count": null,
      "outputs": []
    },
    {
      "cell_type": "code",
      "source": [
        "%%writefile $CONTAINER_DIR/pyproject.toml\n",
        "[tool.poetry]\n",
        "package-mode = false\n",
        "\n",
        "[tool.poetry.dependencies]\n",
        "python = \"==3.10.12\""
      ],
      "metadata": {
        "id": "HnEqShsuUoxT"
      },
      "execution_count": null,
      "outputs": []
    },
    {
      "cell_type": "code",
      "source": [
        "%%writefile $CONTAINER_DIR/Dockerfile\n",
        "# https://medium.com/@albertazzir/blazing-fast-python-docker-builds-with-poetry-a78a66f5aed0\n",
        "\n",
        "# Fetch the base image\n",
        "# https://hub.docker.com/r/amd64/python/\n",
        "# The builder image, used to build the virtual environment\n",
        "FROM amd64/python:3.10.12\n",
        "\n",
        "# Install pipx\n",
        "RUN apt-get update && \\\n",
        "    apt-get install --no-install-suggests --no-install-recommends --yes pipx\n",
        "\n",
        "# Install network tools: ping, dig, nslookup\n",
        "RUN apt-get update && \\\n",
        "    apt-get install -y net-tools iputils-ping tcpdump dnsutils\n",
        "\n",
        "ENV PATH=\"/root/.local/bin:${PATH}\"\n",
        "RUN pipx install poetry\n",
        "RUN pipx inject poetry poetry-plugin-bundle\n",
        "\n",
        "ENV POETRY_NO_INTERACTION=1 \\\n",
        "    POETRY_VIRTUALENVS_IN_PROJECT=1 \\\n",
        "    POETRY_VIRTUALENVS_CREATE=1 \\\n",
        "    POETRY_CACHE_DIR=/tmp/poetry_cache\n",
        "\n",
        "# Set the working dir for the rest of the commands\n",
        "WORKDIR /\n",
        "\n",
        "# COPY requirements.txt .\n",
        "COPY pyproject.toml .\n",
        "# COPY poetry.lock .\n",
        "\n",
        "RUN poetry install --no-root && rm -rf $POETRY_CACHE_DIR\n",
        "\n",
        "ENV VIRTUAL_ENV=/.venv \\\n",
        "    PATH=\"/.venv/bin:$PATH\"\n",
        "\n",
        "# Copies the trainer code to the docker image.\n",
        "COPY trainer /trainer\n",
        "\n",
        "# Sets up the entry point to invoke the trainer.\n",
        "ENTRYPOINT [ \"poetry\", \"run\", \"python\", \"-m\", \"trainer.train\" ]"
      ],
      "metadata": {
        "id": "pQRdE718T56-"
      },
      "execution_count": null,
      "outputs": []
    },
    {
      "cell_type": "markdown",
      "source": [
        "# 1-0. Build and Push Custom Container to Artifact Registry\n",
        "\n",
        "You must have enabled the Artifact Registry API for your project in the previous steps. You will store your custom training container in Artifact Registry."
      ],
      "metadata": {
        "id": "6mVUy1rqcKkp"
      }
    },
    {
      "cell_type": "markdown",
      "metadata": {
        "id": "kKHSoEOIi6L4"
      },
      "source": [
        "## 1-1. Create a private Docker repository\n",
        "Your first step is to create a Docker repository in Artifact Registry.\n",
        "\n",
        "1 - Run the `gcloud artifacts repositories create` command to create a new Docker repository with your region with the description `Docker repository`.\n",
        "\n",
        "2 - Run the `gcloud artifacts repositories list` command to verify that your repository was created."
      ]
    },
    {
      "cell_type": "code",
      "execution_count": null,
      "metadata": {
        "id": "SzoZDGHTzFlO"
      },
      "outputs": [],
      "source": [
        "# Repo to create / use for running training job\n",
        "PRIVATE_REPO = \"test-training\"\n",
        "TRAIN_IMAGE = (\n",
        "    f\"{REGION}-docker.pkg.dev/{PROJECT_ID}/{PRIVATE_REPO}/test:latest\"\n",
        ")\n",
        "print(\"Private Repo:\", PRIVATE_REPO)\n",
        "print(\"Training Container Image:\", TRAIN_IMAGE)"
      ]
    },
    {
      "cell_type": "code",
      "execution_count": null,
      "metadata": {
        "id": "ApZqSMcbi-2c"
      },
      "outputs": [],
      "source": [
        "!gcloud artifacts repositories create {PRIVATE_REPO} --repository-format=docker --project={PROJECT_ID} --location={REGION} --description=\"Docker repository\""
      ]
    },
    {
      "cell_type": "code",
      "execution_count": null,
      "metadata": {
        "id": "a8DQGNFMjDXf"
      },
      "outputs": [],
      "source": [
        "!gcloud artifacts repositories --project={PROJECT_ID} list"
      ]
    },
    {
      "cell_type": "markdown",
      "metadata": {
        "id": "K4eC5YUejG4q"
      },
      "source": [
        "## 1-2. Build and push the custom docker container image by using Cloud Build\n",
        "\n",
        "Build and push a Docker image with Cloud Build"
      ]
    },
    {
      "cell_type": "code",
      "execution_count": null,
      "metadata": {
        "id": "f9u3wTzKjNBC"
      },
      "outputs": [],
      "source": [
        "!cd $CONTAINER_DIR && gcloud builds submit --timeout=1800s --project={PROJECT_ID} --region={REGION} --tag {TRAIN_IMAGE}"
      ]
    },
    {
      "cell_type": "markdown",
      "source": [
        "# 2-0. Set up private services access for your VPC\n",
        "\n",
        "Following this guide for [setting up a Private Service Connect interface for Vertex AI resources](https://cloud.google.com/vertex-ai/docs/general/vpc-psc-i-setup)."
      ],
      "metadata": {
        "id": "FpT8ae9a-mMe"
      }
    },
    {
      "cell_type": "code",
      "source": [
        "PROJECT_NUMBER_VPC_HOST = !(gcloud projects describe $PROJECT_ID_VPC_HOST --format=\"value(projectNumber)\")\n",
        "PROJECT_NUMBER_VPC_HOST = PROJECT_NUMBER_VPC_HOST[0]\n",
        "\n",
        "PROJECT_NUMBER = !(gcloud projects describe $PROJECT_ID --format=\"value(projectNumber)\")\n",
        "PROJECT_NUMBER = PROJECT_NUMBER[0]"
      ],
      "metadata": {
        "id": "nYUVceYtTVBm"
      },
      "execution_count": null,
      "outputs": []
    },
    {
      "cell_type": "code",
      "source": [
        "print(\"PROJECT_ID:\", PROJECT_ID)\n",
        "print(\"PROJECT_NUMBER:\", PROJECT_NUMBER)\n",
        "print(\"----------\")\n",
        "print(\"PROJECT_ID_VPC_HOST:\", PROJECT_ID_VPC_HOST)\n",
        "print(\"PROJECT_NUMBER_VPC_HOST:\", PROJECT_NUMBER_VPC_HOST)"
      ],
      "metadata": {
        "id": "21ivCT6dMOX5"
      },
      "execution_count": null,
      "outputs": []
    },
    {
      "cell_type": "code",
      "source": [
        "FULL_NETWORK_ATTACHMENT_NAME = f\"projects/{PROJECT_ID_VPC_HOST}/regions/{REGION}/networkAttachments/{NETWORK_ATTACHMENT_NAME}\"\n",
        "FULL_NETWORK_ATTACHMENT_NAME = f\"projects/{PROJECT_NUMBER_VPC_HOST}/regions/{REGION}/networkAttachments/{NETWORK_ATTACHMENT_NAME}\"\n",
        "\n",
        "FILESTORE_ZONE = \"us-central1-a\"\n",
        "\n",
        "print(FULL_NETWORK_ATTACHMENT_NAME)"
      ],
      "metadata": {
        "id": "HjEoATQUEeEj"
      },
      "execution_count": null,
      "outputs": []
    },
    {
      "cell_type": "markdown",
      "source": [
        "## 2-1. IAM Bindings"
      ],
      "metadata": {
        "id": "BXtKLS_CA-Sz"
      }
    },
    {
      "cell_type": "code",
      "source": [
        "AI_PLATFORM_SERVICE_AGENT = f\"service-{PROJECT_NUMBER}@gcp-sa-aiplatform.iam.gserviceaccount.com\"\n",
        "\n",
        "!gcloud projects add-iam-policy-binding $PROJECT_ID_VPC_HOST \\\n",
        "  --member=\"serviceAccount:$AI_PLATFORM_SERVICE_AGENT\"  \\\n",
        "  --role=\"roles/compute.networkAdmin\""
      ],
      "metadata": {
        "id": "zfZ16zHQBDK8"
      },
      "execution_count": null,
      "outputs": []
    },
    {
      "cell_type": "code",
      "source": [
        "!gcloud projects add-iam-policy-binding $PROJECT_ID_VPC_HOST \\\n",
        "  --member=\"serviceAccount:service-$PROJECT_NUMBER@compute-system.iam.gserviceaccount.com\"  \\\n",
        "  --role=\"roles/compute.networkAdmin\""
      ],
      "metadata": {
        "id": "05QbGkT1sXou"
      },
      "execution_count": null,
      "outputs": []
    },
    {
      "cell_type": "code",
      "source": [
        "TRAINING_SA = f\"{PROJECT_NUMBER}-compute@developer.gserviceaccount.com\"\n",
        "\n",
        "!gcloud projects add-iam-policy-binding $PROJECT_ID_VPC_HOST \\\n",
        "  --member=\"serviceAccount:$TRAINING_SA\"  \\\n",
        "  --role=\"roles/compute.networkUser\""
      ],
      "metadata": {
        "id": "xpK22Td_wc8h"
      },
      "execution_count": null,
      "outputs": []
    },
    {
      "cell_type": "code",
      "source": [
        "AI_PLATFORM_SERVICE_AGENT = f\"service-{PROJECT_NUMBER_VPC_HOST}@gcp-sa-aiplatform.iam.gserviceaccount.com\"\n",
        "\n",
        "!gcloud projects add-iam-policy-binding $PROJECT_ID_VPC_HOST \\\n",
        "  --member=\"serviceAccount:$AI_PLATFORM_SERVICE_AGENT\"  \\\n",
        "  --role=\"roles/compute.networkAdmin\""
      ],
      "metadata": {
        "id": "sIeVx4pOxjmk"
      },
      "execution_count": null,
      "outputs": []
    },
    {
      "cell_type": "markdown",
      "source": [
        "## 2-1. Create VPC Network"
      ],
      "metadata": {
        "id": "zJxkTa8dyKdm"
      }
    },
    {
      "cell_type": "code",
      "source": [
        "!gcloud compute networks create {VPC_NAME} \\\n",
        "    --project={PROJECT_ID_VPC_HOST} \\\n",
        "    --subnet-mode custom"
      ],
      "metadata": {
        "id": "Qe2s1sIkD5Uw"
      },
      "execution_count": null,
      "outputs": []
    },
    {
      "cell_type": "markdown",
      "source": [
        "## 2-2. Configure following firewalls rules"
      ],
      "metadata": {
        "id": "pbKWBXJgjz8j"
      }
    },
    {
      "cell_type": "code",
      "source": [
        "!gcloud compute firewall-rules create {VPC_NAME}-firewall1 --network {VPC_NAME} --allow tcp:22 --project {PROJECT_ID_VPC_HOST}\n",
        "\n",
        "!gcloud compute firewall-rules create {VPC_NAME}-firewall2 --network {VPC_NAME} --allow tcp:3389 --project {PROJECT_ID_VPC_HOST}\n",
        "\n",
        "!gcloud compute firewall-rules create {VPC_NAME}-firewall3 --network {VPC_NAME} --allow icmp --project {PROJECT_ID_VPC_HOST}"
      ],
      "metadata": {
        "id": "dvBaVH55gENr"
      },
      "execution_count": null,
      "outputs": []
    },
    {
      "cell_type": "markdown",
      "source": [
        "## 2-3. Create VPC Subnet"
      ],
      "metadata": {
        "id": "e30V9DP2fCSk"
      }
    },
    {
      "cell_type": "code",
      "source": [
        "!gcloud compute networks subnets create {REGION} \\\n",
        "    --network {VPC_NAME} \\\n",
        "    --range 10.0.0.0/16 \\\n",
        "    --enable-private-ip-google-access \\\n",
        "    --region={REGION} \\\n",
        "    --project={PROJECT_ID_VPC_HOST}"
      ],
      "metadata": {
        "id": "SBXNfDC8GdHU"
      },
      "execution_count": null,
      "outputs": []
    },
    {
      "cell_type": "markdown",
      "source": [
        "## 2-4. Create Network Attachment"
      ],
      "metadata": {
        "id": "2S7z_USIkgbe"
      }
    },
    {
      "cell_type": "code",
      "source": [
        "!gcloud compute network-attachments create {NETWORK_ATTACHMENT_NAME} \\\n",
        "    --region={REGION} \\\n",
        "    --connection-preference=ACCEPT_MANUAL \\\n",
        "    --subnets={SUBNET_NAME} \\\n",
        "    --project={PROJECT_ID_VPC_HOST}"
      ],
      "metadata": {
        "id": "7pSslSUYg6ad"
      },
      "execution_count": null,
      "outputs": []
    },
    {
      "cell_type": "code",
      "source": [
        "NETWORK_NAME = f\"projects/{PROJECT_NUMBER_VPC_HOST}/global/networks/{VPC_NAME}\"\n",
        "print(NETWORK_NAME)"
      ],
      "metadata": {
        "id": "uS9xHNrRUdoP"
      },
      "execution_count": null,
      "outputs": []
    },
    {
      "cell_type": "code",
      "source": [
        "# @title [Optional]: Setup your NFS instance\n",
        "# !gcloud config set filestore/zone {ZONE}\n",
        "\n",
        "# !gcloud filestore instances create {INSTANCE_NAME} \\\n",
        "#     --tier=TIER \\\n",
        "#     --file-share=name=\"file_share_name\",capacity={SIZE} \\\n",
        "#     --network=name={NETWORK}"
      ],
      "metadata": {
        "id": "fkAML_EJip5w"
      },
      "execution_count": null,
      "outputs": []
    },
    {
      "cell_type": "markdown",
      "metadata": {
        "id": "GlNDREt4hx3W"
      },
      "source": [
        "# 3-0. Run custom training jobs with PSC-I\n",
        "\n",
        "This section creates a custom training job with a Private Service Connect interface. View the [documentation page](https://cloud.google.com/vertex-ai/docs/training/psc-i-egress) for the most up to date information."
      ]
    },
    {
      "cell_type": "markdown",
      "metadata": {
        "id": "Xw4edKzOjWx8"
      },
      "source": [
        "## 3-1. Prepare training jobs\n",
        "\n",
        "Vertex AI Training supports submiting custom training jobs with a prebuilt container, custom container and python application via **HTTP request, Vertex AI SDK or gcloud CLI**. Learn more [here](https://cloud.google.com/vertex-ai/docs/training/code-requirements).\n",
        "\n",
        "In this example, we will demonstrate how to run a custom job with with custom containers. Please specify the images below to your custom images.\n",
        "Note, if it's not a public image, please ensure it's already pushed to your project.\n",
        "\n",
        "https://cloud.google.com/vertex-ai/docs/training/containers-overview"
      ]
    },
    {
      "cell_type": "code",
      "source": [
        "# @title Function Defs\n",
        "### Create CPU Test Training Job\n",
        "def create_single_replica_cpu_job(network_peering: str = None, network_attachment: str = None, enable_web_access: bool = False):\n",
        "  ############ Set Job Service Endpoint ################\n",
        "  job_request_uri = f\"https://{ENDPOINT}/v1beta1/projects/{PROJECT_ID}/locations/{REGION}/customJobs\"\n",
        "\n",
        "  bearer_token = !gcloud auth application-default print-access-token\n",
        "  headers = {\n",
        "      'Content-Type': 'application/json',\n",
        "      'Authorization': 'Bearer {}'.format(bearer_token[0]),\n",
        "  }\n",
        "\n",
        "  print(\"Calling endpoint: {} to create custom training job\".format(job_request_uri))\n",
        "  cpu_single_job = {\n",
        "    \"display_name\": \"CPU Test Job\",\n",
        "    \"job_spec\": {\n",
        "        \"worker_pool_specs\": [\n",
        "          CPU_WORKER_SPEC,\n",
        "        ],\n",
        "        \"service_account\": TRAINING_SA,\n",
        "    },\n",
        "    \"labels\": {\n",
        "        \"network_type\": \"none\"\n",
        "    }\n",
        "  }\n",
        "\n",
        "  if network_attachment and (network_peering == None):\n",
        "    psc_interface_config = {\n",
        "        \"network_attachment\": network_attachment\n",
        "    }\n",
        "    labels = {\n",
        "        \"network_type\": \"psc-i\"\n",
        "    }\n",
        "    cpu_single_job[\"job_spec\"][\"psc_interface_config\"] = psc_interface_config\n",
        "    cpu_single_job[\"labels\"] = labels\n",
        "\n",
        "  if (network_attachment == None) and network_peering:\n",
        "    labels = {\n",
        "        \"network_type\": \"peering\"\n",
        "    }\n",
        "    cpu_single_job[\"job_spec\"][\"network\"] = network_peering\n",
        "    cpu_single_job[\"labels\"] = labels\n",
        "\n",
        "  if enable_web_access:\n",
        "    cpu_single_job[\"job_spec\"][\"enable_web_access\"] = enable_web_access\n",
        "\n",
        "  print(json.dumps(cpu_single_job, indent=2))\n",
        "\n",
        "  response = requests.post(job_request_uri, json=cpu_single_job, headers=headers)\n",
        "\n",
        "  print(\"response:\", response)\n",
        "  job_name = None\n",
        "  job_id = None\n",
        "  if response.reason == 'OK':\n",
        "    job_name = response.json()['name']\n",
        "    job_id = job_name.split('/')[-1]\n",
        "    url = f\"console.cloud.google.com/vertex-ai/locations/{REGION}/training/{job_id}/cpu?&project={PROJECT_ID}\"\n",
        "    print(\"Created Job: \", response.json()['name'])\n",
        "    print(\"Link:\", \"https://\"+url)\n",
        "  else:\n",
        "    print(response.text)\n",
        "  return job_name, job_id, response"
      ],
      "metadata": {
        "id": "RMxA4ortWUhR"
      },
      "execution_count": null,
      "outputs": []
    },
    {
      "cell_type": "code",
      "source": [
        "# Repo to create / use for running training job\n",
        "PRIVATE_REPO = \"test-training\"\n",
        "TRAIN_IMAGE = (\n",
        "    f\"{REGION}-docker.pkg.dev/{PROJECT_ID}/{PRIVATE_REPO}/test:latest\"\n",
        ")\n",
        "print(\"Private Repo:\", PRIVATE_REPO)\n",
        "print(\"Training Container Image:\", TRAIN_IMAGE)"
      ],
      "metadata": {
        "id": "mGPDSgvyl7d-"
      },
      "execution_count": null,
      "outputs": []
    },
    {
      "cell_type": "code",
      "source": [
        "PROJECT_NUMBER_VPC_HOST = !(gcloud projects describe $PROJECT_ID_VPC_HOST --format=\"value(projectNumber)\")\n",
        "PROJECT_NUMBER_VPC_HOST = PROJECT_NUMBER_VPC_HOST[0]\n",
        "\n",
        "PROJECT_NUMBER = !(gcloud projects describe $PROJECT_ID --format=\"value(projectNumber)\")\n",
        "PROJECT_NUMBER = PROJECT_NUMBER[0]"
      ],
      "metadata": {
        "id": "q0Hc9yY8no9p"
      },
      "execution_count": null,
      "outputs": []
    },
    {
      "cell_type": "code",
      "source": [
        "print(\"PROJECT_ID:\", PROJECT_ID)\n",
        "print(\"PROJECT_NUMBER:\", PROJECT_NUMBER)\n",
        "print(\"----------\")\n",
        "print(\"PROJECT_ID_VPC_HOST:\", PROJECT_ID_VPC_HOST)\n",
        "print(\"PROJECT_NUMBER_VPC_HOST:\", PROJECT_NUMBER_VPC_HOST)"
      ],
      "metadata": {
        "id": "yCmWBM7Qno9q"
      },
      "execution_count": null,
      "outputs": []
    },
    {
      "cell_type": "code",
      "source": [
        "# FULL_NETWORK_ATTACHMENT_NAME = f\"projects/{PROJECT_ID_VPC_HOST}/regions/{REGION}/networkAttachments/{NETWORK_ATTACHMENT_NAME}\"\n",
        "FULL_NETWORK_ATTACHMENT_NAME = f\"projects/{PROJECT_NUMBER_VPC_HOST}/regions/{REGION}/networkAttachments/{NETWORK_ATTACHMENT_NAME}\"\n",
        "\n",
        "print(FULL_NETWORK_ATTACHMENT_NAME)"
      ],
      "metadata": {
        "id": "3XLvaWRMno9r"
      },
      "execution_count": null,
      "outputs": []
    },
    {
      "cell_type": "code",
      "execution_count": null,
      "metadata": {
        "id": "5SfzF67Fjm8Q"
      },
      "outputs": [],
      "source": [
        "# Prepare training images\n",
        "CPU_IMAGE = TRAIN_IMAGE\n",
        "JOB_DIR = BUCKET_URI\n",
        "print(\"Using image: \", CPU_IMAGE)\n",
        "print(\"Output Model Directory: \", JOB_DIR)\n",
        "print(\"Network Attachment: \", FULL_NETWORK_ATTACHMENT_NAME)"
      ]
    },
    {
      "cell_type": "markdown",
      "source": [
        "## 3-2. Training Job Config"
      ],
      "metadata": {
        "id": "iZZO_lSSmMdn"
      }
    },
    {
      "cell_type": "code",
      "source": [
        "CPU_MACHINE_TYPE = \"n2-standard-4\"  # @param {type:\"string\"}\n",
        "TRAINING_SA = f\"{PROJECT_NUMBER}-compute@developer.gserviceaccount.com\""
      ],
      "metadata": {
        "id": "OMG8KbGnmm4C"
      },
      "execution_count": null,
      "outputs": []
    },
    {
      "cell_type": "code",
      "source": [
        "############ Set Job Service Endpoint ################\n",
        "job_request_uri = f\"https://{ENDPOINT}/v1beta1/projects/{PROJECT_ID}/locations/{REGION}/customJobs\"\n",
        "\n",
        "# This is consistent with the default disk spec of jobs.\n",
        "DISK_SPEC = {\n",
        "  \"boot_disk_type\": \"pd-ssd\",\n",
        "  \"boot_disk_size_gb\": 100\n",
        "}\n",
        "\n",
        "############ Set WorkerPool Spec #####################\n",
        "# https://cloud.google.com/vertex-ai/docs/reference/rest/v1/CustomJobSpec\n",
        "CPU_WORKER_SPEC = {\n",
        "  \"machine_spec\": {\n",
        "    \"machine_type\": CPU_MACHINE_TYPE,\n",
        "  },\n",
        "  \"replica_count\": 1,\n",
        "  \"container_spec\": {\n",
        "    \"image_uri\": CPU_IMAGE,\n",
        "    \"command\": [],\n",
        "    \"args\": [\n",
        "        '--sleep=600s',\n",
        "    ],\n",
        "  },\n",
        "  \"disk_spec\": DISK_SPEC\n",
        "}\n",
        "\n",
        "print('CPU worker spec:\\n', json.dumps(CPU_WORKER_SPEC, indent=2))"
      ],
      "metadata": {
        "id": "UQnfz8q4WvL_"
      },
      "execution_count": null,
      "outputs": []
    },
    {
      "cell_type": "markdown",
      "source": [
        "## 3-3. Create CPU test job on Vertex AI Training"
      ],
      "metadata": {
        "id": "vTUKhLJYozpU"
      }
    },
    {
      "cell_type": "code",
      "source": [
        "job_name, job_id, custom_job_response = create_single_replica_cpu_job(network_peering=None,\n",
        "                                                                      network_attachment=FULL_NETWORK_ATTACHMENT_NAME,\n",
        "                                                                      enable_web_access=True)"
      ],
      "metadata": {
        "id": "7VCxyuS7WpZi"
      },
      "execution_count": null,
      "outputs": []
    },
    {
      "cell_type": "code",
      "source": [
        "print(json.dumps(json.loads(custom_job_response.text), indent=2))"
      ],
      "metadata": {
        "id": "cd-gOg_ltBgo"
      },
      "execution_count": null,
      "outputs": []
    },
    {
      "cell_type": "markdown",
      "metadata": {
        "id": "nOyxqfCjj3Vf"
      },
      "source": [
        "# 4-0. Get Job Details"
      ]
    },
    {
      "cell_type": "code",
      "execution_count": null,
      "metadata": {
        "id": "uQsQHP6sj5VT"
      },
      "outputs": [],
      "source": [
        "# Option 1: Use the Custom Job ID to get details\n",
        "# JOB_ID = \"\" # @param {type:\"string\"}\n",
        "# !gcloud beta ai custom-jobs describe {JOB_ID} --project={PROJECT_ID} --region={REGION}"
      ]
    },
    {
      "cell_type": "code",
      "execution_count": null,
      "metadata": {
        "id": "CMxAZU94j-FE"
      },
      "outputs": [],
      "source": [
        "# Option 2: List existing custom jobs, filter running jobs and ones with the set label\n",
        "# Lists the existing custom jobs, filters with the label set for these jobs\n",
        "FILTER = '\"(state!=\"JOB_STATE_SUCCEEDED\" AND state!=\"JOB_STATE_FAILED\" AND state!=\"JOB_STATE_CANCELLED\") AND labels.network_type=psc-i\"'\n",
        "!gcloud beta ai custom-jobs list --project={PROJECT_ID} --region={REGION} --filter={FILTER}"
      ]
    },
    {
      "cell_type": "markdown",
      "metadata": {
        "id": "TpV-iwP9qw9c"
      },
      "source": [
        "# 5-0. Cleaning up\n",
        "\n",
        "To clean up all Google Cloud resources used in this project, you can [delete the Google Cloud\n",
        "project](https://cloud.google.com/resource-manager/docs/creating-managing-projects#shutting_down_projects) you used for the tutorial.\n",
        "\n",
        "Otherwise, you can delete the individual resources you created in this tutorial:\n",
        "\n",
        "- Cloud Storage Bucket\n",
        "- Artifacts Repository\n",
        "- VPC Network"
      ]
    },
    {
      "cell_type": "code",
      "execution_count": null,
      "metadata": {
        "id": "sx_vKniMq9ZX"
      },
      "outputs": [],
      "source": [
        "# Set this to true only if you'd like to delete your bucket\n",
        "delete_bucket = False\n",
        "delete_artifacts_repo = False\n",
        "\n",
        "if delete_bucket:\n",
        "  !gsutil rm -rf $JOB_DIR\n",
        "  !gsutil rm -r $BUCKET_URI\n",
        "\n",
        "if delete_artifacts_repo:\n",
        "  !gcloud artifacts repositories delete {PRIVATE_REPO} --project={PROJECT_ID} --location={REGION} --quiet"
      ]
    }
  ],
  "metadata": {
    "colab": {
      "provenance": [],
      "toc_visible": true
    },
    "kernelspec": {
      "display_name": "Python 3",
      "name": "python3"
    }
  },
  "nbformat": 4,
  "nbformat_minor": 0
}
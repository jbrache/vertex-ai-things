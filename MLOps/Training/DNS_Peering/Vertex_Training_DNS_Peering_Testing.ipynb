{
  "cells": [
    {
      "cell_type": "code",
      "execution_count": null,
      "metadata": {
        "id": "ur8xi4C7S06n"
      },
      "outputs": [],
      "source": [
        "# Copyright 2025 Google LLC\n",
        "#\n",
        "# Licensed under the Apache License, Version 2.0 (the \"License\");\n",
        "# you may not use this file except in compliance with the License.\n",
        "# You may obtain a copy of the License at\n",
        "#\n",
        "#     https://www.apache.org/licenses/LICENSE-2.0\n",
        "#\n",
        "# Unless required by applicable law or agreed to in writing, software\n",
        "# distributed under the License is distributed on an \"AS IS\" BASIS,\n",
        "# WITHOUT WARRANTIES OR CONDITIONS OF ANY KIND, either express or implied.\n",
        "# See the License for the specific language governing permissions and\n",
        "# limitations under the License."
      ]
    },
    {
      "cell_type": "markdown",
      "metadata": {
        "id": "JAPoU8Sm5E6e"
      },
      "source": [
        "# Vertex AI Training DNS Peering Testing\n",
        "\n",
        "<table align=\"left\">\n",
        "  <td style=\"text-align: center\">\n",
        "    <a href=\"https://colab.research.google.com/github/jbrache/vertex-ai-things/blob/main/MLOps/Training/DNS_Peering/Vertex_Training_DNS_Peering_Testing.ipynb\">\n",
        "      <img width=\"32px\" src=\"https://www.gstatic.com/pantheon/images/bigquery/welcome_page/colab-logo.svg\" alt=\"Google Colaboratory logo\"><br> Open in Colab\n",
        "    </a>\n",
        "  </td>\n",
        "  <td style=\"text-align: center\">\n",
        "    <a href=\"https://console.cloud.google.com/vertex-ai/colab/import/https:%2F%2Fraw.githubusercontent.com%2Fjbrache%2Fvertex-ai-things%2Fmain%2FMLOps%2FTraining%2FDNS_Peering%2FVertex_Training_DNS_Peering_Testing.ipynb\">\n",
        "      <img width=\"32px\" src=\"https://lh3.googleusercontent.com/JmcxdQi-qOpctIvWKgPtrzZdJJK-J3sWE1RsfjZNwshCFgE_9fULcNpuXYTilIR2hjwN\" alt=\"Google Cloud Colab Enterprise logo\"><br> Open in Colab Enterprise\n",
        "    </a>\n",
        "  </td>\n",
        "  <td style=\"text-align: center\">\n",
        "    <a href=\"https://console.cloud.google.com/vertex-ai/workbench/deploy-notebook?download_url=https://raw.githubusercontent.com/jbrache/vertex-ai-things/blob/main/MLOps/Training/DNS_Peering/Vertex_Training_DNS_Peering_Testing.ipynb\">\n",
        "      <img src=\"https://www.gstatic.com/images/branding/gcpiconscolors/vertexai/v1/32px.svg\" alt=\"Vertex AI logo\"><br> Open in Vertex AI Workbench\n",
        "    </a>\n",
        "  </td>\n",
        "  <td style=\"text-align: center\">\n",
        "    <a href=\"https://github.com/jbrache/vertex-ai-things/blob/main/MLOps/Training/DNS_Peering/Vertex_Training_DNS_Testing.ipynb\">\n",
        "      <img width=\"32px\" src=\"https://www.svgrepo.com/download/217753/github.svg\" alt=\"GitHub logo\"><br> View on GitHub\n",
        "    </a>\n",
        "  </td>\n",
        "</table>"
      ]
    },
    {
      "cell_type": "markdown",
      "source": [
        "| Author(s) |\n",
        "| --- |\n",
        "| [Jose Brache](https://github.com/jbrache) |"
      ],
      "metadata": {
        "id": "gu4do1bcet6m"
      }
    },
    {
      "cell_type": "markdown",
      "metadata": {
        "id": "aed92deeb4a0"
      },
      "source": [
        "## Overview\n",
        "\n",
        "You can configure [Vertex AI to peer with Virtual Private Cloud](https://cloud.google.com/vertex-ai/docs/general/vpc-peering) (VPC) to connect directly with certain resources in Vertex AI.\n",
        "\n",
        "This guide shows how to test [**DNS Peering**](https://cloud.google.com/blog/products/networking/how-to-use-cloud-dns-peering-in-a-shared-vpc-environment) with Vertex AI Training. A pre-requisite is setting up VPC Network Peering in a VPC Host Project to peer your network with Vertex AI Training. This guide is recommended for networking administrators who are already familiar with Google Cloud networking concepts.\n",
        "\n",
        "Review the public docs for the latest information on support:\n",
        "- [Set up VPC Network Peering for certain Vertex AI resources](https://cloud.google.com/vertex-ai/docs/general/vpc-peering)\n",
        "- [Set up Connectivity from Vertex AI to Other Networks](https://cloud.google.com/vertex-ai/docs/general/hybrid-connectivity)\n",
        "\n",
        "This example covers the following steps:\n",
        "1. Pre-Requisite: Setup VPC Network Peering with Vertex AI Training, see [this](https://github.com/jbrache/vertex-ai-things/blob/main/MLOps/Training/Vertex_Training_with_VPC_Network_Peering.ipynb) sample.\n",
        "2. Setup projects as the **VPC Host Project (Project 'a')**\n",
        "4. Setup VPC Peering in VPC Host Project for Vertex AI Training\n",
        "5. Prepare Training Job\n",
        "6. Submit Training Job with VPC Network Peering in **us-central1**\n",
        "7. Submit Training Job with VPC Network Peering in **us-west1**\n",
        "8. Clean Up"
      ]
    },
    {
      "cell_type": "markdown",
      "source": [
        "## Get started"
      ],
      "metadata": {
        "id": "aVUK0GRWL4kn"
      }
    },
    {
      "cell_type": "markdown",
      "source": [
        "### Install Vertex AI SDK and other required packages"
      ],
      "metadata": {
        "id": "M8LkGgxBe55P"
      }
    },
    {
      "cell_type": "code",
      "source": [
        "# import sys\n",
        "\n",
        "# if \"google.colab\" in sys.modules:\n",
        "#     !pip3 install --upgrade google-cloud-aiplatform\n",
        "\n",
        "#     # Restart the notebook kernel after installs.\n",
        "#     import IPython\n",
        "\n",
        "#     app = IPython.Application.instance()\n",
        "#     app.kernel.do_shutdown(True)"
      ],
      "metadata": {
        "id": "2tghR70frqiS"
      },
      "execution_count": 7,
      "outputs": []
    },
    {
      "cell_type": "markdown",
      "source": [
        "---\n",
        "\n",
        "#### ⚠️ Do not forget to click the \"RESTART RUNTIME\" button above.\n",
        "\n",
        "---\n",
        "\n",
        "If you install additional packages, it's suggested to restart the notebook kernel so it can find the packages."
      ],
      "metadata": {
        "id": "SfZUIrKLtXBU"
      }
    },
    {
      "cell_type": "markdown",
      "source": [
        "### Authenticate your notebook environment (Colab only)\n",
        "\n",
        "If you're running this notebook on Google Colab, run the cell below to authenticate your environment."
      ],
      "metadata": {
        "id": "PMuTPovBfCuP"
      }
    },
    {
      "cell_type": "code",
      "source": [
        "import sys\n",
        "\n",
        "if \"google.colab\" in sys.modules:\n",
        "    from google.colab import auth\n",
        "\n",
        "    auth.authenticate_user()"
      ],
      "metadata": {
        "id": "TbAYymZP8VQJ"
      },
      "execution_count": 8,
      "outputs": []
    },
    {
      "cell_type": "markdown",
      "source": [
        "# 0-0. Set Google Cloud project information\n",
        "\n",
        "To get started using Vertex AI, you must have an existing Google Cloud project and [enable the Vertex AI API](https://console.cloud.google.com/flows/enableapi?apiid=aiplatform.googleapis.com).\n",
        "\n",
        "Learn more about [setting up a project and a development environment](https://cloud.google.com/vertex-ai/docs/start/cloud-environment)."
      ],
      "metadata": {
        "id": "Bte0-njbsj1e"
      }
    },
    {
      "cell_type": "code",
      "execution_count": 9,
      "metadata": {
        "id": "oM1iC_MfAts1",
        "colab": {
          "base_uri": "https://localhost:8080/"
        },
        "outputId": "3330a085-e425-4a37-adcb-fa7114f03701"
      },
      "outputs": [
        {
          "output_type": "stream",
          "name": "stdout",
          "text": [
            "Updated property [core/project].\n"
          ]
        }
      ],
      "source": [
        "############## Set Region for Shared Resources ###########################\n",
        "REGION = \"us-central1\"  # @param {type: \"string\"}\n",
        "\n",
        "############## Set VPC Host Project ###########################\n",
        "# Calling this Project 'a' where the VPC Host project exists\n",
        "PROJECT_ID_VPC_HOST = \"ds-dev-jb02-psci\"  # @param {type:\"string\"}\n",
        "\n",
        "# Region #1\n",
        "REGION_CENTRAL = \"us-central1\"  # @param {type: \"string\"}\n",
        "VPC_NAME = \"vertex-vpc-prod\"\n",
        "SUBNET_NAME_CENTRAL = f\"{REGION_CENTRAL}-vertex-psci\"\n",
        "NETWORK_ATTACHMENT_NAME_CENTRAL = f\"{REGION_CENTRAL}-vertex-psci\"\n",
        "\n",
        "# Region #2\n",
        "REGION_WEST = \"us-west1\"  # @param {type: \"string\"}\n",
        "VPC_NAME = \"vertex-vpc-prod\"\n",
        "SUBNET_NAME_WEST = f\"{REGION_WEST}-vertex-psci\"\n",
        "NETWORK_ATTACHMENT_NAME_WEST = f\"{REGION_WEST}-vertex-psci\"\n",
        "\n",
        "# DNS Peering Settings\n",
        "DNS_VPC=\"vertex-dns-vpc\t\"\n",
        "DNS_SUFFIX=\"myfakezone.com\"\n",
        "\n",
        "############## Set Vertex AI Project ###########################\n",
        "# Calling this Project 'b' where Vertex AI Training jobs run\n",
        "PROJECT_ID = \"ds-dev-jb02-psci\"  # @param {type:\"string\"}\n",
        "\n",
        "############## Set Bucket ###########################\n",
        "BUCKET_URI = f\"gs://{PROJECT_ID}-artifacts\"\n",
        "\n",
        "# Set the project id\n",
        "!gcloud config set project {PROJECT_ID}"
      ]
    },
    {
      "cell_type": "markdown",
      "source": [
        "## 0-1. Enable APIs\n",
        "The following APIs are enabled in this demo:\n",
        "1. [Enable the Vertex AI API](https://console.cloud.google.com/flows/enableapi?apiid=aiplatform.googleapis.com)\n",
        "2. [Enable the Cloud Build API](https://console.cloud.google.com/flows/enableapi?apiid=cloudbuild.googleapis.com)\n",
        "3. [Enable the Artifact Registry API](https://console.cloud.google.com/flows/enableapi?apiid=artifactregistry.googleapis.com): You must enable the Artifact Registry API for your project. You will store your custom training container in Artifact Registry. [Learn more about Enabling the Artifact Registry service](https://cloud.google.com/artifact-registry/docs/enable-service)\n",
        "4. [Enable the Service Networking API](https://console.cloud.google.com/flows/enableapi?apiid=servicenetworking.googleapis.com)\n"
      ],
      "metadata": {
        "id": "mW6HcE3T6a5m"
      }
    },
    {
      "cell_type": "code",
      "source": [
        "############# Enable the APIs for Vertex AI Project ########################\n",
        "!gcloud services enable --project=$PROJECT_ID aiplatform.googleapis.com artifactregistry.googleapis.com cloudbuild.googleapis.com --project $PROJECT_ID"
      ],
      "metadata": {
        "id": "wAi6QffPHYx5"
      },
      "execution_count": null,
      "outputs": []
    },
    {
      "cell_type": "code",
      "source": [
        "############# Enable the APIs for VPC Host Project ########################\n",
        "!gcloud services enable --project=$PROJECT_ID_VPC_HOST aiplatform.googleapis.com compute.googleapis.com servicenetworking.googleapis.com --project $PROJECT_ID_VPC_HOST"
      ],
      "metadata": {
        "id": "ty73GrEEfzTq"
      },
      "execution_count": null,
      "outputs": []
    },
    {
      "cell_type": "markdown",
      "metadata": {
        "id": "960505627ddf"
      },
      "source": [
        "## 0-2. Import libraries"
      ]
    },
    {
      "cell_type": "code",
      "execution_count": null,
      "metadata": {
        "id": "PyQmSRbKA8r-"
      },
      "outputs": [],
      "source": [
        "import os\n",
        "import sys\n",
        "import requests\n",
        "import json"
      ]
    },
    {
      "cell_type": "markdown",
      "metadata": {
        "id": "zgPO1eR3CYjk"
      },
      "source": [
        "## 0-3. Create a Cloud Storage bucket\n",
        "\n",
        "Create a storage bucket to store intermediate artifacts such as datasets."
      ]
    },
    {
      "cell_type": "markdown",
      "metadata": {
        "id": "-EcIXiGsCePi"
      },
      "source": [
        "**Only if your bucket doesn't already exist**: Run the following cell to create your Cloud Storage bucket."
      ]
    },
    {
      "cell_type": "code",
      "execution_count": null,
      "metadata": {
        "id": "NIq7R4HZCfIc"
      },
      "outputs": [],
      "source": [
        "create_bucket = False\n",
        "if create_bucket:\n",
        "    !gsutil mb -l {REGION} -p {PROJECT_ID} {BUCKET_URI}"
      ]
    },
    {
      "cell_type": "markdown",
      "source": [
        "# 2-0. Set up Separate VPC for DNS Peering Testing\n",
        "\n",
        "Following this guide for [setting up a Private Service Connect interface for Vertex AI resources](https://cloud.google.com/vertex-ai/docs/general/vpc-psc-i-setup)."
      ],
      "metadata": {
        "id": "FpT8ae9a-mMe"
      }
    },
    {
      "cell_type": "markdown",
      "source": [
        "## 2-1. Create VPC Network"
      ],
      "metadata": {
        "id": "zJxkTa8dyKdm"
      }
    },
    {
      "cell_type": "code",
      "source": [
        "!gcloud compute networks create {DNS_VPC_NAME} \\\n",
        "    --project={PROJECT_ID_VPC_HOST} \\\n",
        "    --subnet-mode=custom"
      ],
      "metadata": {
        "id": "e1FS-s5wlTJB"
      },
      "execution_count": null,
      "outputs": []
    },
    {
      "cell_type": "markdown",
      "source": [
        "## 2-2. Create Private Zone"
      ],
      "metadata": {
        "id": "faofaXBVsDt6"
      }
    },
    {
      "cell_type": "code",
      "source": [
        "!gcloud dns managed-zones create my-private-zone \\\n",
        "    --project={PROJECT_ID_VPC_HOST} \\\n",
        "    --description=\"\" \\\n",
        "    --dns-name={DNS_SUFFIX} \\\n",
        "    --visibility=private \\\n",
        "    --networks={DNS_VPC_NAME}"
      ],
      "metadata": {
        "id": "J_jbTUPIlVZs"
      },
      "execution_count": null,
      "outputs": []
    },
    {
      "cell_type": "markdown",
      "source": [
        "## 2-3. Create DNS Record"
      ],
      "metadata": {
        "id": "8h15vCmEsLUc"
      }
    },
    {
      "cell_type": "code",
      "source": [
        "!gcloud dns record-sets create test.{DNS_SUFFIX} \\\n",
        "    --project={PROJECT_ID_VPC_HOST} \\\n",
        "    --zone=my-private-zone \\\n",
        "    --type=A \\\n",
        "    --ttl=300 \\\n",
        "    --rrdatas=1.2.3.4"
      ],
      "metadata": {
        "id": "Xf-73EzplcGo"
      },
      "execution_count": null,
      "outputs": []
    },
    {
      "cell_type": "markdown",
      "source": [
        "## 2-3. Create DNS Managed Zone"
      ],
      "metadata": {
        "id": "o92d71uUsS8U"
      }
    },
    {
      "cell_type": "code",
      "source": [
        "!gcloud dns managed-zones create \\\n",
        "    peer-mydns-vpc-from-vertex-vpc \\\n",
        "    --project={PROJECT_ID_VPC_HOST} \\\n",
        "    --dns-name={DNS_SUFFIX} \\\n",
        "    --visibility=\"private\" \\\n",
        "    --description=\"\" \\\n",
        "    --networks={VPC_NAME} \\\n",
        "    --target-project={PROJECT_ID_VPC_HOST} \\\n",
        "    --target-network={DNS_VPC_NAME}\n"
      ],
      "metadata": {
        "id": "vOPYn9N2lfRH"
      },
      "execution_count": null,
      "outputs": []
    },
    {
      "cell_type": "markdown",
      "source": [
        "## 2-3. Create a Peered DNS Domain"
      ],
      "metadata": {
        "id": "eilgL5cXsbXh"
      }
    },
    {
      "cell_type": "code",
      "source": [
        "!gcloud services peered-dns-domains create \\\n",
        "    --project={PROJECT_ID_VPC_HOST} \\\n",
        "    vertex-dns \\\n",
        "    --network={PROJECT_ID_VPC_HOST} \\\n",
        "    --dns-suffix={DNS_SUFFIX}\n"
      ],
      "metadata": {
        "id": "1AueI3QglhoG"
      },
      "execution_count": null,
      "outputs": []
    },
    {
      "cell_type": "markdown",
      "metadata": {
        "id": "GlNDREt4hx3W"
      },
      "source": [
        "# 3-0. Run custom training jobs on the Peered VPC\n",
        "\n",
        "Pre-Requisite: Setup VPC Network Peering with Vertex AI Training, see [this](https://github.com/jbrache/vertex-ai-things/blob/main/MLOps/Training/Vertex_Training_with_VPC_Network_Peering.ipynb) sample."
      ]
    },
    {
      "cell_type": "markdown",
      "metadata": {
        "id": "Xw4edKzOjWx8"
      },
      "source": [
        "## 3-1. Prepare training jobs\n",
        "\n",
        "Vertex AI Training supports submiting custom training jobs with a prebuilt container, custom container and python application via **HTTP request, Vertex AI SDK or gcloud CLI**. Learn more [here](https://cloud.google.com/vertex-ai/docs/training/code-requirements).\n",
        "\n",
        "In this example, we will demonstrate how to run a custom job with with custom containers. Please specify the images below to your custom images.\n",
        "Note, if it's not a public image, please ensure it's already pushed to your project.\n",
        "\n",
        "https://cloud.google.com/vertex-ai/docs/training/containers-overview"
      ]
    },
    {
      "cell_type": "code",
      "source": [
        "# Repo to create / use for running training job\n",
        "PRIVATE_REPO = \"test-training\"\n",
        "TRAIN_IMAGE = (\n",
        "    f\"{REGION}-docker.pkg.dev/{PROJECT_ID}/{PRIVATE_REPO}/test:latest\"\n",
        ")\n",
        "print(\"Private Repo:\", PRIVATE_REPO)\n",
        "print(\"Training Container Image:\", TRAIN_IMAGE)"
      ],
      "metadata": {
        "id": "2f42NgbabJ_3"
      },
      "execution_count": null,
      "outputs": []
    },
    {
      "cell_type": "code",
      "source": [
        "PROJECT_NUMBER=!(gcloud projects describe $PROJECT_ID --format=\"value(projectNumber)\")\n",
        "PROJECT_NUMBER = PROJECT_NUMBER[0]"
      ],
      "metadata": {
        "id": "FhwtTv6zcyIn"
      },
      "execution_count": null,
      "outputs": []
    },
    {
      "cell_type": "code",
      "source": [
        "PROJECT_NUMBER_VPC_HOST=!(gcloud projects describe $PROJECT_ID_VPC_HOST --format=\"value(projectNumber)\")\n",
        "PROJECT_NUMBER_VPC_HOST = PROJECT_NUMBER_VPC_HOST[0]"
      ],
      "metadata": {
        "id": "qLe8CGvHsrOq"
      },
      "execution_count": null,
      "outputs": []
    },
    {
      "cell_type": "code",
      "source": [
        "NETWORK_NAME = f\"projects/{PROJECT_NUMBER_VPC_HOST}/global/networks/{VPC_NAME}\"\n",
        "BUCKET_URI = f\"gs://{PROJECT_ID}-artifacts\"\n",
        "print(NETWORK_NAME)\n",
        "print(BUCKET_URI)"
      ],
      "metadata": {
        "id": "Pde4qItFrVW7"
      },
      "execution_count": null,
      "outputs": []
    },
    {
      "cell_type": "code",
      "execution_count": null,
      "metadata": {
        "id": "5SfzF67Fjm8Q"
      },
      "outputs": [],
      "source": [
        "# Prepare training images\n",
        "CPU_IMAGE = TRAIN_IMAGE\n",
        "JOB_DIR = BUCKET_URI\n",
        "print(\"Using image: \", CPU_IMAGE)\n",
        "print(\"Output Model Directory: \", JOB_DIR)\n",
        "print(\"Network Name: \", NETWORK_NAME)"
      ]
    },
    {
      "cell_type": "markdown",
      "source": [
        "## 3-2. Training Job Config"
      ],
      "metadata": {
        "id": "0cLEPipLrSNG"
      }
    },
    {
      "cell_type": "code",
      "source": [
        "CPU_MACHINE_TYPE = \"n2-standard-4\"  # @param {type:\"string\"}\n",
        "TRAINING_SA = f\"{PROJECT_NUMBER}-compute@developer.gserviceaccount.com\""
      ],
      "metadata": {
        "id": "OMG8KbGnmm4C"
      },
      "execution_count": null,
      "outputs": []
    },
    {
      "cell_type": "code",
      "execution_count": null,
      "metadata": {
        "id": "5D6f-VFbjnkZ"
      },
      "outputs": [],
      "source": [
        "# ----------- Set WorkerPool Spec -----------#\n",
        "# https://cloud.google.com/sdk/gcloud/reference/beta/ai/custom-jobs/create\n",
        "CONTENT = f\"\"\"\n",
        "workerPoolSpecs:\n",
        "  - machineSpec:\n",
        "      machineType: {CPU_MACHINE_TYPE}\n",
        "    replicaCount: 1\n",
        "    containerSpec:\n",
        "      imageUri: {CPU_IMAGE}\n",
        "      args:\n",
        "        --sleep=1200s\n",
        "serviceAccount: {TRAINING_SA}\n",
        "network: {NETWORK_NAME}\n",
        "\"\"\""
      ]
    },
    {
      "cell_type": "code",
      "execution_count": null,
      "metadata": {
        "id": "Xu8M0olIjrH-"
      },
      "outputs": [],
      "source": [
        "f = open(\"custom_job_spec.yaml\", \"w\")\n",
        "f.write(CONTENT[1:])\n",
        "f.close()\n",
        "\n",
        "!cat custom_job_spec.yaml"
      ]
    },
    {
      "cell_type": "markdown",
      "metadata": {
        "id": "nKUejYmqjuKs"
      },
      "source": [
        "## 3-3. Create CPU test job on Vertex AI Training - us-central1"
      ]
    },
    {
      "cell_type": "code",
      "execution_count": null,
      "metadata": {
        "id": "IY6qtqyhjx__"
      },
      "outputs": [],
      "source": [
        "#----------- Create CPU Test Job -----------#\n",
        "!gcloud beta ai custom-jobs create \\\n",
        "    --project={PROJECT_ID} \\\n",
        "    --region={REGION_CENTRAL} \\\n",
        "    --display-name=\"CPU Test Job Peering\" \\\n",
        "    --config=custom_job_spec.yaml \\\n",
        "    --enable-web-access \\\n",
        "    --labels network_type=vpc_peering"
      ]
    },
    {
      "cell_type": "markdown",
      "metadata": {
        "id": "i6UYin4agIx6"
      },
      "source": [
        "## 3-3. Create CPU test job on Vertex AI Training - us-west1"
      ]
    },
    {
      "cell_type": "code",
      "execution_count": null,
      "metadata": {
        "id": "BTGea4S8gIx7"
      },
      "outputs": [],
      "source": [
        "#----------- Create CPU Test Job -----------#\n",
        "!gcloud beta ai custom-jobs create \\\n",
        "    --project={PROJECT_ID} \\\n",
        "    --region={REGION_WEST} \\\n",
        "    --display-name=\"CPU Test Job Peering\" \\\n",
        "    --config=custom_job_spec.yaml \\\n",
        "    --enable-web-access \\\n",
        "    --labels network_type=vpc_peering"
      ]
    },
    {
      "cell_type": "markdown",
      "source": [
        "## 3-5. Monitor and debug training with an interactive shell\n",
        "\n",
        "The jobs in this project have [enabled interactive shells](https://cloud.google.com/vertex-ai/docs/training/monitor-debug-interactive-shell) for the custom training resource. The interactive shell allows you to inspect the container where your training code is running.\n",
        "\n",
        "You can navitage to the interactive shell with [these](https://cloud.google.com/vertex-ai/docs/training/monitor-debug-interactive-shell#navigate-console) instructions."
      ],
      "metadata": {
        "id": "R6sCvRkPX0gf"
      }
    },
    {
      "cell_type": "code",
      "source": [
        "# In the interactive shell run:\n",
        "# dig myfakezone.com"
      ],
      "metadata": {
        "id": "CbilgC-tr3tA"
      },
      "execution_count": null,
      "outputs": []
    },
    {
      "cell_type": "markdown",
      "metadata": {
        "id": "nOyxqfCjj3Vf"
      },
      "source": [
        "# 4-0. Get Job Details"
      ]
    },
    {
      "cell_type": "code",
      "execution_count": null,
      "metadata": {
        "id": "uQsQHP6sj5VT"
      },
      "outputs": [],
      "source": [
        "# Option 1: Use the Custom Job ID to get details\n",
        "# JOB_ID = \"\" # @param {type:\"string\"}\n",
        "# !gcloud beta ai custom-jobs describe {JOB_ID} --project={PROJECT_ID} --region={REGION}"
      ]
    },
    {
      "cell_type": "code",
      "execution_count": null,
      "metadata": {
        "id": "CMxAZU94j-FE"
      },
      "outputs": [],
      "source": [
        "# Option 2: List existing custom jobs, filter running jobs and ones with the set label\n",
        "# Lists the existing custom jobs, filters with the label set for these jobs\n",
        "FILTER = '\"(state!=\"JOB_STATE_SUCCEEDED\" AND state!=\"JOB_STATE_FAILED\" AND state!=\"JOB_STATE_CANCELLED\") AND labels.network_type=vpc_peering\"'\n",
        "!gcloud beta ai custom-jobs list --project={PROJECT_ID} --region={REGION_CENTRAL} --filter={FILTER}"
      ]
    },
    {
      "cell_type": "code",
      "source": [
        "!gcloud beta ai custom-jobs list --project={PROJECT_ID} --region={REGION_WEST} --filter={FILTER}"
      ],
      "metadata": {
        "id": "BXZRQrrUz0_i"
      },
      "execution_count": null,
      "outputs": []
    },
    {
      "cell_type": "markdown",
      "metadata": {
        "id": "TpV-iwP9qw9c"
      },
      "source": [
        "# 5-0. Cleaning up\n",
        "\n",
        "To clean up all Google Cloud resources used in this project, you can [delete the Google Cloud\n",
        "project](https://cloud.google.com/resource-manager/docs/creating-managing-projects#shutting_down_projects) you used for the tutorial.\n",
        "\n",
        "Otherwise, you can delete the individual resources you created in this tutorial:\n",
        "\n",
        "- Cloud Storage Bucket\n",
        "- Artifacts Repository\n",
        "- VPC Network"
      ]
    },
    {
      "cell_type": "code",
      "execution_count": null,
      "metadata": {
        "id": "sx_vKniMq9ZX"
      },
      "outputs": [],
      "source": [
        "# Set this to true only if you'd like to delete your bucket\n",
        "delete_bucket = False\n",
        "delete_artifacts_repo = False\n",
        "\n",
        "if delete_bucket:\n",
        "  !gsutil rm -rf $JOB_DIR\n",
        "  !gsutil rm -r $BUCKET_URI\n",
        "\n",
        "if delete_artifacts_repo:\n",
        "  !gcloud artifacts repositories delete {PRIVATE_REPO} --project={PROJECT_ID} --location={REGION} --quiet"
      ]
    }
  ],
  "metadata": {
    "colab": {
      "provenance": [],
      "toc_visible": true
    },
    "kernelspec": {
      "display_name": "Python 3",
      "name": "python3"
    }
  },
  "nbformat": 4,
  "nbformat_minor": 0
}